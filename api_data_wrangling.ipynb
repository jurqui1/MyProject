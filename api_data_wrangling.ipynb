{
 "cells": [
  {
   "cell_type": "markdown",
   "metadata": {},
   "source": [
    "This exercise will require you to pull some data from the Qunadl API. Qaundl is currently the most widely used aggregator of financial market data."
   ]
  },
  {
   "cell_type": "markdown",
   "metadata": {},
   "source": [
    "As a first step, you will need to register a free account on the http://www.quandl.com website."
   ]
  },
  {
   "cell_type": "markdown",
   "metadata": {},
   "source": [
    "After you register, you will be provided with a unique API key, that you should store:"
   ]
  },
  {
   "cell_type": "code",
   "execution_count": 7,
   "metadata": {},
   "outputs": [],
   "source": [
    "# Store the API key as a string - according to PEP8, constants are always named in all upper case\n",
    "API_KEY = 'jKv6KDsQki7wgc4LrcEL'"
   ]
  },
  {
   "cell_type": "markdown",
   "metadata": {},
   "source": [
    "Qaundl has a large number of data sources, but, unfortunately, most of them require a Premium subscription. Still, there are also a good number of free datasets."
   ]
  },
  {
   "cell_type": "markdown",
   "metadata": {},
   "source": [
    "For this mini project, we will focus on equities data from the Frankfurt Stock Exhange (FSE), which is available for free. We'll try and analyze the stock prices of a company called Carl Zeiss Meditec, which manufactures tools for eye examinations, as well as medical lasers for laser eye surgery: https://www.zeiss.com/meditec/int/home.html. The company is listed under the stock ticker AFX_X."
   ]
  },
  {
   "cell_type": "markdown",
   "metadata": {},
   "source": [
    "You can find the detailed Quandl API instructions here: https://docs.quandl.com/docs/time-series"
   ]
  },
  {
   "cell_type": "markdown",
   "metadata": {},
   "source": [
    "While there is a dedicated Python package for connecting to the Quandl API, we would prefer that you use the *requests* package, which can be easily downloaded using *pip* or *conda*. You can find the documentation for the package here: http://docs.python-requests.org/en/master/ "
   ]
  },
  {
   "cell_type": "markdown",
   "metadata": {},
   "source": [
    "Finally, apart from the *requests* package, you are encouraged to not use any third party Python packages, such as *pandas*, and instead focus on what's available in the Python Standard Library (the *collections* module might come in handy: https://pymotw.com/3/collections/ ).\n",
    "Also, since you won't have access to DataFrames, you are encouraged to us Python's native data structures - preferably dictionaries, though some questions can also be answered using lists.\n",
    "You can read more on these data structures here: https://docs.python.org/3/tutorial/datastructures.html"
   ]
  },
  {
   "cell_type": "markdown",
   "metadata": {},
   "source": [
    "Keep in mind that the JSON responses you will be getting from the API map almost one-to-one to Python's dictionaries. Unfortunately, they can be very nested, so make sure you read up on indexing dictionaries in the documentation provided above."
   ]
  },
  {
   "cell_type": "code",
   "execution_count": 134,
   "metadata": {},
   "outputs": [],
   "source": [
    "# First, import the relevant modules\n",
    "import requests\n",
    "import json\n",
    "import pandas as pd\n",
    "import numpy as np\n"
   ]
  },
  {
   "cell_type": "code",
   "execution_count": 15,
   "metadata": {},
   "outputs": [
    {
     "name": "stdout",
     "output_type": "stream",
     "text": [
      "{'dataset': {'id': 36592406, 'dataset_code': 'EON_X', 'database_code': 'FSE', 'name': 'E.on Se (EON_X)', 'description': 'Stock Prices for E.on Se (2019-07-26) from the Frankfurt Stock Exchange.<br><br>Trading System: Xetra<br><br>ISIN: DE000ENAG999', 'refreshed_at': '2019-08-09T22:40:02.454Z', 'newest_available_date': '2019-08-09', 'oldest_available_date': '2003-01-20', 'column_names': ['Date', 'Open', 'High', 'Low', 'Close', 'Change', 'Traded Volume', 'Turnover', 'Last Price of the Day', 'Daily Traded Units', 'Daily Turnover'], 'frequency': 'daily', 'type': 'Time Series', 'premium': False, 'limit': None, 'transform': None, 'column_index': None, 'start_date': '2019-08-05', 'end_date': '2019-08-09', 'data': [['2019-08-09', 8.6, 8.617, 8.371, 8.405, None, 17500488.0, 148009936.0, None, None, None], ['2019-08-08', 8.758, 8.808, 8.595, 8.614, None, 17509400.0, 151170720.0, None, None, None], ['2019-08-07', 9.22, 9.261, 8.79, 8.824, None, 16604970.0, 148338464.0, None, None, None], ['2019-08-06', 9.15, 9.195, 9.068, 9.101, None, 8113609.0, 74053272.0, None, None, None], ['2019-08-05', 9.184, 9.272, 9.131, 9.152, None, 9082112.0, 83344824.0, None, None, None]], 'collapse': None, 'order': None, 'database_id': 6129}}\n"
     ]
    }
   ],
   "source": [
    "r = requests.get('https://www.quandl.com/api/v3/datasets/FSE/EON_X?start_date=2019-08-05&2019-08-06&api_key=jKv6KDsQki7wgc4LrcEL')\n",
    "r = r.json()\n",
    "print(r)"
   ]
  },
  {
   "cell_type": "code",
   "execution_count": 6,
   "metadata": {},
   "outputs": [
    {
     "name": "stdout",
     "output_type": "stream",
     "text": [
      "<bound method Response.json of <Response [422]>>\n"
     ]
    }
   ],
   "source": [
    "print(r.json)"
   ]
  },
  {
   "cell_type": "markdown",
   "metadata": {},
   "source": [
    "These are your tasks for this mini project:\n",
    "\n",
    "1. Collect data from the Franfurt Stock Exchange, for the ticker AFX_X, for the whole year 2017 (keep in mind that the date format is YYYY-MM-DD).\n",
    "2. Convert the returned JSON object into a Python dictionary.\n",
    "3. Calculate what the highest and lowest opening prices were for the stock in this period.\n",
    "4. What was the largest change in any one day (based on High and Low price)?\n",
    "5. What was the largest change between any two days (based on Closing Price)?\n",
    "6. What was the average daily trading volume during this year?\n",
    "7. (Optional) What was the median trading volume during this year. (Note: you may need to implement your own function for calculating the median.)"
   ]
  },
  {
   "cell_type": "code",
   "execution_count": 51,
   "metadata": {},
   "outputs": [],
   "source": [
    "# 1.) Collect data from the Franfurt Stock Exchange, for the ticker AFX_X, for the whole year 2017 (keep in mind that the date format is YYYY-MM-DD).\n",
    "r = requests.get('https://www.quandl.com/api/v3/datasets/FSE/EON_X?start_date=2017-01-01&2017-01-02&api_key=jKv6KDsQki7wgc4LrcEL')\n",
    "r = r.json()"
   ]
  },
  {
   "cell_type": "code",
   "execution_count": 52,
   "metadata": {},
   "outputs": [
    {
     "name": "stdout",
     "output_type": "stream",
     "text": [
      "dataset: {'id': 36592406, 'dataset_code': 'EON_X', 'database_code': 'FSE', 'name': 'E.on Se (EON_X)', 'description': 'Stock Prices for E.on Se (2019-07-26) from the Frankfurt Stock Exchange.<br><br>Trading System: Xetra<br><br>ISIN: DE000ENAG999', 'refreshed_at': '2019-08-09T22:40:02.454Z', 'newest_available_date': '2019-08-09', 'oldest_available_date': '2003-01-20', 'column_names': ['Date', 'Open', 'High', 'Low', 'Close', 'Change', 'Traded Volume', 'Turnover', 'Last Price of the Day', 'Daily Traded Units', 'Daily Turnover'], 'frequency': 'daily', 'type': 'Time Series', 'premium': False, 'limit': None, 'transform': None, 'column_index': None, 'start_date': '2017-01-01', 'end_date': '2019-08-09', 'data': [['2019-08-09', 8.6, 8.617, 8.371, 8.405, None, 17500488.0, 148009936.0, None, None, None], ['2019-08-08', 8.758, 8.808, 8.595, 8.614, None, 17509400.0, 151170720.0, None, None, None], ['2019-08-07', 9.22, 9.261, 8.79, 8.824, None, 16604970.0, 148338464.0, None, None, None], ['2019-08-06', 9.15, 9.195, 9.068, 9.101, None, 8113609.0, 74053272.0, None, None, None], ['2019-08-05', 9.184, 9.272, 9.131, 9.152, None, 9082112.0, 83344824.0, None, None, None], ['2019-08-02', 9.041, 9.226, 9.04, 9.184, None, 11805856.0, 108337816.0, None, None, None], ['2019-08-01', 9.044, 9.146, 9.02, 9.101, None, 9911795.0, 90131128.0, None, None, None], ['2019-07-31', 9.0, 9.054, 8.86, 9.054, None, 15496938.0, 139491344.0, None, None, None], ['2019-07-30', 9.46, 9.5, 9.174, 9.226, None, 13528541.0, 125519824.0, None, None, None], ['2019-07-29', 9.429, 9.535, 9.425, 9.488, None, 4376368.0, 41547352.0, None, None, None], ['2019-07-26', 9.521, 9.528, 9.422, 9.46, None, 7409564.0, 70114528.0, None, None, None], ['2019-07-25', 9.59, 9.732, 9.491, 9.517, None, 10567240.0, 101417528.0, None, None, None], ['2019-07-24', 9.495, 9.562, 9.477, 9.538, None, 6533670.0, 62251968.0, None, None, None], ['2019-07-23', 9.516, 9.542, 9.378, 9.51, None, 6693594.0, 63451400.0, None, None, None], ['2019-07-22', 9.443, 9.493, 9.381, 9.46, None, 4213977.0, 39766560.0, None, None, None], ['2019-07-19', 9.44, 9.503, 9.418, 9.45, None, 7167037.0, 67798144.0, None, None, None], ['2019-07-18', 9.362, 9.472, 9.344, 9.416, None, 6297855.0, 59293864.0, None, None, None], ['2019-07-17', 9.397, 9.465, 9.38, 9.387, None, 6549515.0, 61655252.0, None, None, None], ['2019-07-16', 9.405, 9.461, 9.367, 9.4, None, 4599660.0, 43262756.0, None, None, None], ['2019-07-15', 9.387, 9.457, 9.336, 9.405, None, 5530597.0, 51979288.0, None, None, None], ['2019-07-12', 9.46, 9.493, 9.364, 9.409, None, 8074828.0, 76019632.0, None, None, None], ['2019-07-11', 9.601, 9.651, 9.461, 9.488, None, 8469915.0, 80743152.0, None, None, None], ['2019-07-10', 9.63, 9.657, 9.511, 9.541, None, 8789423.0, 84008928.0, None, None, None], ['2019-07-09', 9.62, 9.742, 9.62, 9.67, None, 6457650.0, 62455380.0, None, None, None], ['2019-07-08', 9.617, 9.686, 9.575, 9.633, None, 4686155.0, 45129808.0, None, None, None], ['2019-07-05', 9.82, 9.857, 9.57, 9.664, None, 7648650.0, 74206152.0, None, None, None], ['2019-07-04', 9.85, 9.86, 9.752, 9.8, None, 4788996.0, 46919332.0, None, None, None], ['2019-07-03', 9.8, 9.886, 9.769, 9.856, None, 7037793.0, 69295480.0, None, None, None], ['2019-07-02', 9.649, 9.81, 9.611, 9.761, None, 7581513.0, 73866264.0, None, None, None], ['2019-07-01', 9.67, 9.671, 9.528, 9.612, None, 7682560.0, 73792808.0, None, None, None], ['2019-06-28', 9.52, 9.589, 9.473, 9.551, None, 7367726.0, 70306296.0, None, None, None], ['2019-06-27', 9.62, 9.623, 9.514, 9.549, None, 7212558.0, 68880816.0, None, None, None], ['2019-06-26', 9.63, 9.68, 9.569, 9.597, None, 8278826.0, 79540256.0, None, None, None], ['2019-06-25', 9.75, 9.845, 9.509, 9.665, None, 11314162.0, 109657200.0, None, None, None], ['2019-06-24', 9.941, 9.941, 9.788, 9.789, None, 9205039.0, 90381864.0, None, None, None], ['2019-06-21', 9.884, 9.944, 9.866, 9.928, None, 16083879.0, 159400240.0, None, None, None], ['2019-06-20', 9.994, 10.032, 9.839, 9.87, None, 8398176.0, 83090792.0, None, None, None], ['2019-06-19', 10.066, 10.066, 9.863, 9.914, None, 10002793.0, 99272160.0, None, None, None], ['2019-06-18', 9.915, 10.26, 9.839, 10.09, None, 15079902.0, 151948800.0, None, None, None], ['2019-06-17', 9.935, 9.966, 9.839, 9.9, None, 6498174.0, 64439564.0, None, None, None], ['2019-06-14', 9.932, 9.956, 9.892, 9.935, None, 6078715.0, 60348828.0, None, None, None], ['2019-06-13', 9.918, 10.006, 9.914, 9.947, None, 7120275.0, 70939320.0, None, None, None], ['2019-06-12', 9.846, 9.956, 9.84, 9.934, None, 6829636.0, 67814424.0, None, None, None], ['2019-06-11', 9.942, 9.964, 9.849, 9.877, None, 7899231.0, 78123216.0, None, None, None], ['2019-06-07', 9.749, 9.994, 9.749, 9.925, None, 13638114.0, 135144256.0, None, None, None], ['2019-06-06', 9.574, 9.79, 9.563, 9.755, None, 11440740.0, 111369848.0, None, None, None], ['2019-06-05', 9.44, 9.594, 9.43, 9.593, None, 8138924.0, 77739064.0, None, None, None], ['2019-06-04', 9.402, 9.498, 9.398, 9.453, None, 6440030.0, 60904424.0, None, None, None], ['2019-06-03', 9.328, 9.438, 9.291, 9.416, None, 7313784.0, 68735400.0, None, None, None], ['2019-05-31', 9.35, 9.381, 9.281, 9.349, None, 6820206.0, 63660688.0, None, None, None], ['2019-05-30', 9.42, 9.453, 9.379, 9.379, None, 3870353.0, 36374364.0, None, None, None], ['2019-05-29', 9.415, 9.481, 9.378, 9.418, None, 7915074.0, 74602032.0, None, None, None], ['2019-05-28', 9.451, 9.495, 9.433, 9.495, None, 7747808.0, 73452456.0, None, None, None], ['2019-05-27', 9.454, 9.484, 9.42, 9.456, None, 3578522.0, 33862184.0, None, None, None], ['2019-05-24', 9.349, 9.484, 9.313, 9.444, None, 9957835.0, 94040824.0, None, None, None], ['2019-05-23', 9.341, 9.394, 9.23, 9.332, None, 9802656.0, 91301008.0, None, None, None], ['2019-05-22', 9.361, 9.445, 9.342, 9.375, None, 6411530.0, 60216592.0, None, None, None], ['2019-05-21', 9.293, 9.404, 9.271, 9.379, None, 8112262.0, 75985016.0, None, None, None], ['2019-05-20', 9.31, 9.388, 9.289, 9.311, None, 7639224.0, 71219216.0, None, None, None], ['2019-05-17', 9.217, 9.295, 9.205, 9.292, None, 8559771.0, 79306632.0, None, None, None], ['2019-05-16', 9.098, 9.266, 9.098, 9.26, None, 12048615.0, 111146480.0, None, None, None], ['2019-05-15', 9.158, 9.204, 9.011, 9.079, None, 20240524.0, 183779168.0, None, None, None], ['2019-05-14', 9.57, 9.678, 9.557, 9.64, None, 14014905.0, 135031440.0, None, None, None], ['2019-05-13', 9.511, 9.66, 9.426, 9.562, None, 11844117.0, 113083808.0, None, None, None], ['2019-05-10', 9.49, 9.58, 9.42, 9.522, None, 12105905.0, 115278448.0, None, None, None], ['2019-05-09', 9.38, 9.468, 9.374, 9.415, None, 7990564.0, 75303216.0, None, None, None], ['2019-05-08', 9.464, 9.515, 9.359, 9.392, None, 9709071.0, 91405496.0, None, None, None], ['2019-05-07', 9.408, 9.547, 9.396, 9.502, None, 9948675.0, 94457960.0, None, None, None], ['2019-05-06', 9.31, 9.414, 9.301, 9.39, None, 6520051.0, 61105732.0, None, None, None], ['2019-05-03', 9.389, 9.418, 9.339, 9.38, None, 11927190.0, 111828632.0, None, None, None], ['2019-05-02', 9.51, 9.547, 9.382, 9.428, None, 13894170.0, 131179456.0, None, None, None], ['2019-04-30', 9.599, 9.622, 9.497, 9.568, None, 10546418.0, 100749992.0, None, None, None], ['2019-04-29', 9.619, 9.621, 9.531, 9.598, None, 7422687.0, 71099848.0, None, None, None], ['2019-04-26', 9.68, 9.799, 9.639, 9.648, None, 6427933.0, 62143612.0, None, None, None], ['2019-04-25', None, 9.712, 9.604, 9.669, None, 7104725.0, 68653280.0, None, None, None], ['2019-04-24', None, 9.645, 9.484, 9.603, None, 18054002.0, 172926109.0, None, None, None], ['2019-04-23', None, 9.958, 9.798, 9.82, None, 6231092.0, 61345415.0, None, None, None], ['2019-04-18', None, 9.841, 9.744, 9.83, None, 8483368.0, 83224703.0, None, None, None], ['2019-04-17', None, 9.763, 9.582, 9.762, None, 11272899.0, 109391301.0, None, None, None], ['2019-04-16', None, 9.908, 9.718, 9.73, None, 11055465.0, 107962830.0, None, None, None], ['2019-04-15', None, 9.983, 9.871, 9.873, None, 7088232.0, 70166794.0, None, None, None], ['2019-04-12', None, 10.06, 9.887, 9.918, None, 10142157.0, 100815609.0, None, None, None], ['2019-04-11', None, 10.106, 9.995, 10.048, None, 7129540.0, 71627773.0, None, None, None], ['2019-04-10', None, 10.09, 9.952, 10.076, None, 7350395.0, 73845663.0, None, None, None], ['2019-04-09', None, 10.07, 9.975, 10.04, None, 6014554.0, 60318650.0, None, None, None], ['2019-04-08', None, 10.116, 9.998, 10.042, None, 5786456.0, 58245272.0, None, None, None], ['2019-04-05', None, 10.052, 9.942, 10.016, None, 4860122.0, 48605836.0, None, None, None], ['2019-04-04', None, 10.118, 10.006, 10.022, None, 5327074.0, 53513534.0, None, None, None], ['2019-04-03', None, 10.052, 9.867, 10.05, None, 9515075.0, 95245344.0, None, None, None], ['2019-04-02', None, 9.943, 9.833, 9.917, None, 8571086.0, 84921861.0, None, None, None], ['2019-04-01', None, 9.963, 9.783, 9.826, None, 8092627.0, 79601634.0, None, None, None], ['2019-03-29', None, 9.998, 9.841, 9.912, None, 6873816.0, 68181285.0, None, None, None], ['2019-03-28', None, 10.036, 9.894, 9.932, None, 7453829.0, 74135327.0, None, None, None], ['2019-03-27', None, 9.98, 9.775, 9.98, None, 9509297.0, 94271936.0, None, None, None], ['2019-03-26', None, 10.064, 9.922, 9.973, None, 7179563.0, 71646476.0, None, None, None], ['2019-03-25', None, 10.082, 9.937, 9.981, None, 5779739.0, 57737100.0, None, None, None], ['2019-03-22', None, 10.144, 9.922, 9.972, None, 12785025.0, 128095065.0, None, None, None], ['2019-03-21', None, 9.93, 9.808, 9.92, None, 10610636.0, 104955614.0, None, None, None], ['2019-03-20', None, 9.897, 9.691, 9.824, None, 11983533.0, 117708113.0, None, None, None], ['2019-03-19', None, 9.733, 9.57, 9.694, None, 9548753.0, 92507915.0, None, None, None], ['2019-03-18', None, 9.634, 9.511, 9.6, None, 8373667.0, 80336116.0, None, None, None], ['2019-03-15', None, 9.666, 9.532, 9.538, None, 18664730.0, 178607083.0, None, None, None], ['2019-03-14', None, 9.691, 9.485, 9.555, None, 13613009.0, 130179784.0, None, None, None], ['2019-03-13', None, 9.782, 9.524, 9.603, None, 15126431.0, 145461004.0, None, None, None], ['2019-03-12', None, 9.839, 9.651, 9.809, None, 12032985.0, 117394507.0, None, None, None], ['2019-03-11', None, 9.861, 9.703, 9.849, None, 7315072.0, 71854651.0, None, None, None], ['2019-03-08', None, 9.875, 9.646, 9.727, None, 9374893.0, 91681792.0, None, None, None], ['2019-03-07', None, 9.73, 9.54, 9.72, None, 9035194.0, 87288599.0, None, None, None], ['2019-03-06', None, 9.685, 9.489, 9.62, None, 9060437.0, 86763391.0, None, None, None], ['2019-03-05', None, 9.679, 9.537, 9.639, None, 6856371.0, 65982156.0, None, None, None], ['2019-03-04', None, 9.764, 9.63, 9.648, None, 5510570.0, 53256226.0, None, None, None], ['2019-03-01', None, 9.774, 9.695, 9.738, None, 6062658.0, 59036976.0, None, None, None], ['2019-02-28', None, 9.709, 9.585, 9.685, None, 6830029.0, 65972725.0, None, None, None], ['2019-02-27', None, 9.83, 9.642, 9.698, None, 8399052.0, 81417511.0, None, None, None], ['2019-02-26', None, 9.833, 9.683, 9.818, None, 6315003.0, 61792170.0, None, None, None], ['2019-02-25', None, 9.775, 9.685, 9.745, None, 4876390.0, 47483481.0, None, None, None], ['2019-02-22', None, 9.774, 9.624, 9.74, None, 6533996.0, 63561959.0, None, None, None], ['2019-02-21', None, 9.761, 9.547, 9.687, None, 8608477.0, 83194753.0, None, None, None], ['2019-02-20', None, 9.778, 9.63, 9.67, None, 5424161.0, 52510750.0, None, None, None], ['2019-02-19', None, 9.723, 9.61, 9.699, None, 4247938.0, 41188289.0, None, None, None], ['2019-02-18', None, 9.652, 9.594, 9.638, None, 5579021.0, 53713542.0, None, None, None], ['2019-02-15', None, 9.709, 9.597, 9.64, None, 8427231.0, 81261074.0, None, None, None], ['2019-02-14', None, 9.765, 9.599, 9.661, None, 7560583.0, 73183083.0, None, None, None], ['2019-02-13', None, 9.661, 9.509, 9.597, None, None, None, None, None, None], ['2019-02-12', None, 9.677, 9.59, 9.627, None, None, None, None, None, None], ['2019-02-11', None, 9.607, 9.47, 9.578, None, None, None, None, None, None], ['2019-02-08', None, 9.524, 9.409, 9.45, None, None, None, None, None, None], ['2019-02-07', None, 9.577, 9.449, 9.478, None, None, None, None, None, None], ['2019-02-06', None, 9.678, 9.563, 9.59, None, None, None, None, None, None], ['2019-02-05', None, 9.78, 9.597, 9.762, None, None, None, None, None, None], ['2019-02-04', None, 9.678, 9.557, 9.611, None, None, None, None, None, None], ['2019-02-01', None, 9.75, 9.64, 9.673, None, None, None, None, None, None], ['2019-01-31', None, 9.703, 9.594, 9.68, None, None, None, None, None, None], ['2019-01-30', None, 9.68, 9.564, 9.593, None, None, None, None, None, None], ['2019-01-29', None, 9.711, 9.457, 9.616, None, None, None, None, None, None], ['2019-01-28', None, 9.491, 9.382, 9.425, None, None, None, None, None, None], ['2019-01-25', None, 9.572, 9.448, 9.472, None, None, None, None, None, None], ['2019-01-24', None, 9.4, 9.133, 9.399, None, None, None, None, None, None], ['2019-01-23', None, 9.234, 8.996, 9.167, None, None, None, None, None, None], ['2019-01-22', None, 9.103, 9.03, 9.068, None, None, None, None, None, None], ['2019-01-21', None, 9.133, 9.008, 9.031, None, None, None, None, None, None], ['2019-01-18', None, 9.177, 9.033, 9.133, None, None, None, None, None, None], ['2019-01-17', None, 9.069, 8.944, 9.045, None, None, None, None, None, None], ['2019-01-15', None, 9.134, 8.972, 9.087, None, None, None, None, None, None], ['2019-01-14', None, 9.125, 8.949, 9.034, None, None, None, None, None, None], ['2019-01-11', None, 9.182, 9.003, 9.007, None, None, None, None, None, None], ['2019-01-10', None, 9.104, 8.9, 9.02, None, None, None, None, None, None], ['2019-01-09', None, 9.075, 8.892, 8.934, None, None, None, None, None, None], ['2019-01-08', None, 9.106, 8.979, 9.027, None, None, None, None, None, None], ['2019-01-07', None, 9.107, 8.941, 8.981, None, None, None, None, None, None], ['2019-01-04', None, 9.132, 9.002, 9.083, None, None, None, None, None, None], ['2019-01-03', None, 9.057, 8.839, 8.998, None, None, None, None, None, None], ['2019-01-02', None, 8.935, 8.542, 8.9, None, None, None, None, None, None], ['2018-12-28', None, 8.643, 8.498, 8.627, None, None, None, None, None, None], ['2018-12-27', None, 8.83, 8.419, 8.524, None, None, None, None, None, None], ['2018-12-21', None, 8.939, 8.783, 8.864, None, None, None, None, None, None], ['2018-12-20', None, 8.944, 8.813, 8.895, None, None, None, None, None, None], ['2018-12-19', None, 8.999, 8.883, 8.965, None, None, None, None, None, None], ['2018-12-18', None, 8.99, 8.847, 8.899, None, None, None, None, None, None], ['2018-12-17', None, 9.11, 8.934, 8.97, None, None, None, None, None, None], ['2018-12-14', None, 9.247, 9.069, 9.231, None, None, None, None, None, None], ['2018-12-13', None, 9.274, 9.087, 9.22, None, None, None, None, None, None], ['2018-12-12', None, 9.22, 8.985, 9.092, None, None, None, None, None, None], ['2018-12-11', None, 9.009, 8.758, 8.933, None, None, None, None, None, None], ['2018-12-10', None, 8.889, 8.688, 8.694, None, None, None, None, None, None], ['2018-12-06', None, 8.991, 8.77, 8.821, None, None, None, None, None, None], ['2018-12-05', None, 9.069, 8.888, 9.027, None, None, None, None, None, None], ['2018-12-04', None, 9.102, 8.944, 9.0, None, None, None, None, None, None], ['2018-12-03', None, 9.134, 9.0, 9.03, None, None, None, None, None, None], ['2018-11-30', None, 9.065, 8.974, 9.005, None, 9208735.0, 83022948.0, None, None, None], ['2018-11-29', None, 9.197, 8.962, 8.979, None, 9781540.0, 88197487.0, None, None, None], ['2018-11-28', None, 9.261, 9.089, 9.11, None, 8156814.0, 74532073.0, None, None, None], ['2018-11-27', None, 9.284, 9.142, 9.224, None, 8957184.0, 82555137.0, None, None, None], ['2018-11-26', None, 9.161, 9.051, 9.113, None, 6327302.0, 57653367.0, None, None, None], ['2018-11-23', None, 9.042, 8.925, 9.02, None, 6391479.0, 57482071.0, None, None, None], ['2018-11-22', None, 9.151, 8.938, 9.0, None, 10985353.0, 99001012.0, None, None, None], ['2018-11-21', None, 9.31, 9.09, 9.181, None, 10273996.0, 94347116.0, None, None, None], ['2018-11-20', None, 9.309, 9.191, 9.215, None, 10695499.0, 98947801.0, None, None, None], ['2018-11-19', None, 9.29, 9.15, 9.206, None, 8822208.0, 81290519.0, None, None, None], ['2018-11-16', None, 9.217, 9.026, 9.131, None, 15901722.0, 145170395.0, None, None, None], ['2018-11-15', None, 9.114, 8.928, 8.994, None, 12055293.0, 108603664.0, None, None, None], ['2018-11-14', None, 9.187, 8.641, 8.969, None, 23199138.0, 207938198.0, None, None, None], ['2018-11-13', None, 8.801, 8.607, 8.675, None, 10354259.0, 89878881.0, None, None, None], ['2018-11-12', None, 8.798, 8.633, 8.694, None, 6567947.0, 57155928.0, None, None, None], ['2018-11-09', None, 8.757, 8.482, 8.741, None, 8557054.0, 74244616.0, None, None, None], ['2018-11-08', None, 8.819, 8.65, 8.696, None, 7785372.0, 67962186.0, None, None, None], ['2018-11-07', None, 8.779, 8.598, 8.756, None, 12015883.0, 104993693.0, None, None, None], ['2018-11-06', None, 8.595, 8.396, 8.59, None, 19114601.0, 163011757.0, None, None, None], ['2018-11-05', None, 8.778, 8.648, 8.746, None, 8774009.0, 76653735.0, None, None, None], ['2018-11-02', None, 8.688, 8.574, 8.64, None, 7006164.0, 60491733.0, None, None, None], ['2018-11-01', None, 8.719, 8.539, 8.602, None, 7724017.0, 66640659.0, None, None, None], ['2018-10-31', None, 8.619, 8.524, 8.556, None, 7882310.0, 67519502.0, None, None, None], ['2018-10-30', None, 8.555, 8.461, 8.499, None, 5544051.0, 47141663.0, None, None, None], ['2018-10-29', None, 8.556, 8.442, 8.464, None, 6529973.0, 55376985.0, None, None, None], ['2018-10-26', None, 8.533, 8.427, 8.488, None, 9502488.0, 80625089.0, None, None, None], ['2018-10-25', None, 8.548, 8.44, 8.527, None, 6927500.0, 58877558.0, None, None, None], ['2018-10-24', None, 8.624, 8.469, 8.497, None, 6176492.0, 52717413.0, None, None, None], ['2018-10-23', None, 8.577, 8.481, 8.5, None, 10732523.0, 91317455.0, None, None, None], ['2018-10-22', None, 8.677, 8.565, 8.565, None, 6547641.0, 56243430.0, None, None, None], ['2018-10-19', None, 8.629, 8.47, 8.6, None, 11009528.0, 94538789.0, None, None, None], ['2018-10-18', None, 8.599, 8.442, 8.455, None, 7174711.0, 60851549.0, None, None, None], ['2018-10-17', None, 8.524, 8.427, 8.491, None, 7738873.0, 65635949.0, None, None, None], ['2018-10-16', None, 8.478, 8.339, 8.46, None, 7390046.0, 62380286.0, None, None, None], ['2018-10-15', None, 8.378, 8.163, 8.35, None, 6142767.0, 51086292.0, None, None, None], ['2018-10-12', None, 8.434, 8.274, 8.291, None, 10082849.0, 84242509.0, None, None, None], ['2018-10-11', None, 8.468, 8.297, 8.343, None, 13581618.0, 113513595.0, None, None, None], ['2018-10-10', None, 8.592, 8.388, 8.393, None, 12355650.0, 104291563.0, None, None, None], ['2018-10-09', None, 8.631, 8.468, 8.601, None, 9414644.0, 80588060.0, None, None, None], ['2018-10-08', None, 8.664, 8.513, 8.532, None, 7409361.0, 63473168.0, None, None, None], ['2018-10-05', None, 8.737, 8.603, 8.643, None, 12532924.0, 108619023.0, None, None, None], ['2018-10-04', None, 8.728, 8.62, 8.68, None, 11358580.0, 98510208.0, None, None, None], ['2018-10-02', None, 8.779, 8.67, 8.755, None, 7893203.0, 69028864.0, None, None, None], ['2018-10-01', None, 8.817, 8.686, 8.711, None, 9711254.0, 84881279.0, None, None, None], ['2018-09-28', None, 8.88, 8.737, 8.78, None, 13648745.0, 119971227.0, None, None, None], ['2018-09-27', None, 8.96, 8.801, 8.92, None, 9665118.0, 86010620.0, None, None, None], ['2018-09-26', None, 9.01, 8.834, 8.964, None, 9495632.0, 85005681.0, None, None, None], ['2018-09-25', None, 8.942, 8.789, 8.861, None, 12622097.0, 112033049.0, None, None, None], ['2018-09-24', None, 9.059, 8.829, 8.927, None, 15109306.0, 134735913.0, None, None, None], ['2018-09-21', None, 8.992, 8.717, 8.992, None, 131626432.0, 1179796319.0, None, None, None], ['2018-09-20', None, 8.719, 8.533, 8.676, None, 14640301.0, 126710004.0, None, None, None], ['2018-09-19', None, 8.928, 8.596, 8.64, None, 21330016.0, 185258292.0, None, None, None], ['2018-09-18', None, 8.934, 8.804, 8.896, None, 14133616.0, 125476724.0, None, None, None], ['2018-09-17', None, 8.905, 8.73, 8.857, None, 10417218.0, 92141595.0, None, None, None], ['2018-09-14', None, 8.861, 8.765, 8.78, None, 10688823.0, 94043144.0, None, None, None], ['2018-09-13', None, 8.996, 8.743, 8.82, None, 15746131.0, 139416369.0, None, None, None], ['2018-09-12', None, 8.962, 8.723, 8.82, None, 32064191.0, 282756268.0, None, None, None], ['2018-09-11', None, 9.173, 9.048, 9.139, None, 13420846.0, 122546309.0, None, None, None], ['2018-09-10', None, 9.072, 8.835, 9.028, None, 14048314.0, 126408891.0, None, None, None], ['2018-09-07', None, 8.966, 8.754, 8.86, None, 13964709.0, 123637240.0, None, None, None], ['2018-09-06', None, 8.989, 8.889, 8.897, None, 10556717.0, 94262120.0, None, None, None], ['2018-09-05', None, 9.05, 8.964, 8.964, None, 13668022.0, 122853181.0, None, None, None], ['2018-09-04', None, 9.246, 9.023, 9.056, None, 12817901.0, 116354821.0, None, None, None], ['2018-09-03', None, 9.224, 9.13, 9.2, None, 6596035.0, 60587258.0, None, None, None], ['2018-08-31', None, 9.255, 9.139, 9.18, None, 14357307.0, 131854662.0, None, None, None], ['2018-08-30', None, 9.338, 9.248, 9.267, None, 8047373.0, 74722414.0, None, None, None], ['2018-08-29', None, 9.37, 9.258, 9.32, None, 9686644.0, 90180448.0, None, None, None], ['2018-08-28', None, 9.472, 9.266, 9.345, None, 17331124.0, 162033138.0, None, None, None], ['2018-08-27', None, 9.547, 9.467, 9.497, None, 5943425.0, 56465364.0, None, None, None], ['2018-08-24', None, 9.547, 9.438, 9.495, None, 9494880.0, 90098547.0, None, None, None], ['2018-08-23', None, 9.627, 9.482, 9.515, None, 10288681.0, 98283452.0, None, None, None], ['2018-08-22', None, 9.55, 9.433, 9.511, None, 6360455.0, 60485083.0, None, None, None], ['2018-08-21', None, 9.561, 9.455, 9.482, None, 7643476.0, 72655177.0, None, None, None], ['2018-08-20', None, 9.568, 9.452, 9.53, None, 7185974.0, 68429363.0, None, None, None], ['2018-08-17', None, 9.533, 9.406, 9.52, None, 9951016.0, 94425253.0, None, None, None], ['2018-08-16', None, 9.432, 9.324, 9.432, None, 7064807.0, 66402339.0, None, None, None], ['2018-08-15', None, 9.465, 9.309, 9.34, None, 9850311.0, 92269301.0, None, None, None], ['2018-08-14', None, 9.417, 9.293, 9.4, None, 11422083.0, 107129761.0, None, None, None], ['2018-08-13', None, 9.298, 9.191, 9.273, None, 9242637.0, 85557746.0, None, None, None], ['2018-08-10', None, 9.387, 9.185, 9.248, None, 15825275.0, 146713294.0, None, None, None], ['2018-08-09', None, 9.496, 9.332, 9.445, None, 10502541.0, 98921314.0, None, None, None], ['2018-08-08', None, 9.68, 9.355, 9.4, None, 22555168.0, 213352425.0, None, None, None], ['2018-08-07', None, 9.716, 9.608, 9.68, None, 8700318.0, 84145780.0, None, None, None], ['2018-08-06', None, 9.661, 9.521, 9.622, None, 7770327.0, 74638769.0, None, None, None], ['2018-08-03', None, 9.581, 9.424, 9.559, None, 10978616.0, 104435313.0, None, None, None], ['2018-08-02', None, 9.558, 9.434, 9.456, None, 13594297.0, 128988655.0, None, None, None], ['2018-08-01', None, 9.748, 9.466, 9.506, None, 13523513.0, 129148807.0, None, None, None], ['2018-07-31', None, 9.711, 9.573, 9.644, None, 9601930.0, 92692593.0, None, None, None], ['2018-07-30', None, 9.85, 9.567, 9.609, None, 10796224.0, 104233072.0, None, None, None], ['2018-07-27', None, 9.879, 9.687, 9.794, None, 11060166.0, 108392777.0, None, None, None], ['2018-07-26', None, 9.687, 9.53, 9.659, None, 9978035.0, 96115231.0, None, None, None], ['2018-07-25', None, 9.593, 9.467, 9.499, None, 7996793.0, 76028779.0, None, None, None], ['2018-07-24', None, 9.709, 9.512, 9.55, None, 12023903.0, 115141961.0, None, None, None], ['2018-07-23', None, 9.785, 9.65, 9.683, None, 8175037.0, 79451979.0, None, None, None], ['2018-07-20', None, 9.734, 9.542, 9.601, None, 10016464.0, 96479226.0, None, None, None], ['2018-07-19', None, 9.825, 9.682, 9.694, None, 7198306.0, 70000472.0, None, None, None], ['2018-07-18', None, 9.792, 9.664, 9.767, None, 8141914.0, 79332787.0, None, None, None], ['2018-07-17', None, 9.715, 9.55, 9.685, None, 7251442.0, 69865115.0, None, None, None], ['2018-07-16', None, 9.728, 9.514, 9.608, None, 7677322.0, 73802913.0, None, None, None], ['2018-07-13', None, 9.731, 9.56, 9.601, None, 9201715.0, 88451988.0, None, None, None], ['2018-07-12', None, 9.706, 9.542, 9.679, None, 9975116.0, 96133047.0, None, None, None], ['2018-07-11', None, 9.798, 9.587, 9.689, None, 9654421.0, 93742684.0, None, None, None], ['2018-07-10', None, 9.84, 9.663, 9.715, None, 9799859.0, 95379094.0, None, None, None], ['2018-07-09', None, 9.95, 9.763, 9.78, None, 10778894.0, 105837661.0, None, None, None], ['2018-07-06', None, 9.934, 9.792, 9.931, None, 12988588.0, 128473227.0, None, None, None], ['2018-07-05', None, 9.834, 9.664, 9.814, None, 15351143.0, 150096688.0, None, None, None], ['2018-07-04', None, 9.7, 9.475, 9.7, None, 13988937.0, 134896201.0, None, None, None], ['2018-07-03', None, 9.524, 9.262, 9.479, None, 14259061.0, 134626637.0, None, None, None], ['2018-07-02', None, 9.268, 9.015, 9.253, None, 12282037.0, 112972359.0, None, None, None], ['2018-06-29', None, 9.217, 9.106, 9.154, None, 10563743.0, 96752536.0, None, None, None], ['2018-06-28', None, 9.248, 9.055, 9.093, None, 10181875.0, 92959149.0, None, None, None], ['2018-06-27', None, 9.229, 9.055, 9.195, None, 9228346.0, 84417761.0, None, None, None], ['2018-06-26', None, 9.241, 9.026, 9.163, None, 10949376.0, 100213043.0, None, None, None], ['2018-06-25', None, 9.102, 8.993, 9.01, None, 9066667.0, 81849195.0, None, None, None], ['2018-06-22', None, 9.099, 8.998, 9.096, None, 8679329.0, 78689877.0, None, None, None], ['2018-06-21', None, 9.266, 9.086, 9.097, None, 10266962.0, 93912454.0, None, None, None], ['2018-06-20', None, 9.335, 9.122, 9.201, None, 10728039.0, 98810812.0, None, None, None], ['2018-06-19', None, 9.262, 9.12, 9.245, None, 11640968.0, 107222054.0, None, None, None], ['2018-06-18', None, 9.47, 9.242, 9.295, None, 13099116.0, 122064806.0, None, None, None], ['2018-06-15', None, 9.524, 9.232, 9.489, None, 35695648.0, 337280359.0, None, None, None], ['2018-06-14', None, 9.313, 8.89, 9.272, None, 17944890.0, 164373239.0, None, None, None], ['2018-06-13', None, 9.1, 8.916, 8.971, None, 13439009.0, 120605253.0, None, None, None], ['2018-06-12', None, 9.088, 8.925, 9.075, None, 11832489.0, 106891795.0, None, None, None], ['2018-06-11', None, 8.978, 8.814, 8.89, None, 8577863.0, 76281470.0, None, None, None], ['2018-06-08', None, 8.903, 8.789, 8.868, None, 9399529.0, 83217881.0, None, None, None], ['2018-06-07', None, 8.946, 8.858, 8.892, None, 8400617.0, 74699021.0, None, None, None], ['2018-06-06', None, 9.007, 8.85, 8.882, None, 10675195.0, 95138360.0, None, None, None], ['2018-06-05', None, 9.113, 8.963, 8.967, None, 12145739.0, 109680417.0, None, None, None], ['2018-06-04', None, 9.133, 9.03, 9.04, None, 9363187.0, 84863835.0, None, None, None], ['2018-06-01', None, 9.15, 8.982, 9.01, None, 13105672.0, 118575866.0, None, None, None], ['2018-05-31', None, 9.183, 9.006, 9.072, None, 16201340.0, 146886698.0, None, None, None], ['2018-05-30', None, 9.141, 8.989, 9.136, None, 10178995.0, 92467060.0, None, None, None], ['2018-05-29', None, 9.178, 8.995, 9.082, None, 11996566.0, 108814437.0, None, None, None], ['2018-05-28', None, 9.28, 9.166, 9.166, None, 7672646.0, 70739836.0, None, None, None], ['2018-05-25', None, 9.279, 9.05, 9.166, None, 13201947.0, 121024932.0, None, None, None], ['2018-05-24', None, 9.389, 9.172, 9.19, None, 9848449.0, 91132481.0, None, None, None], ['2018-05-23', None, 9.424, 9.268, 9.312, None, 12761295.0, 119185600.0, None, None, None], ['2018-05-22', None, 9.48, 9.36, 9.418, None, 11757101.0, 110814103.0, None, None, None], ['2018-05-18', None, 9.47, 9.321, 9.431, None, 16901600.0, 158847732.0, None, None, None], ['2018-05-17', None, 9.39, 9.26, 9.372, None, 11311634.0, 105794336.0, None, None, None], ['2018-05-16', None, 9.338, 9.253, 9.26, None, 11135773.0, 103344806.0, None, None, None], ['2018-05-15', None, 9.361, 9.213, 9.296, None, 10876975.0, 101185986.0, None, None, None], ['2018-05-14', None, 9.39, 9.226, 9.272, None, 10448508.0, 97024485.0, None, None, None], ['2018-05-11', None, 9.499, 9.29, 9.339, None, 16013543.0, 149856706.0, None, None, None], ['2018-05-10', None, 9.481, 9.221, 9.476, None, 14172090.0, 133265419.0, None, None, None], ['2018-05-09', None, 9.546, 9.452, 9.528, None, 15174202.0, 144372270.0, None, None, None], ['2018-05-08', None, 9.669, 9.418, 9.536, None, 15674601.0, 149512180.0, None, None, None], ['2018-05-07', None, 9.53, 9.426, 9.522, None, 9383316.0, 89025506.0, None, None, None], ['2018-05-04', None, 9.472, 9.315, 9.467, None, 15839669.0, 149460070.0, None, None, None], ['2018-05-03', None, 9.35, 9.209, 9.289, None, 14274850.0, 132524503.0, None, None, None], ['2018-05-02', None, 9.236, 9.058, 9.214, None, 15614737.0, 143373842.0, None, None, None], ['2018-04-30', None, 9.113, 8.862, 9.072, None, 14599589.0, 131700588.0, None, None, None], ['2018-04-27', None, 8.986, 8.847, 8.891, None, 11305752.0, 100829515.0, None, None, None], ['2018-04-26', None, 8.945, 8.756, 8.911, None, 12744037.0, 113028068.0, None, None, None], ['2018-04-25', None, 8.842, 8.657, 8.79, None, 13439218.0, 117636385.0, None, None, None], ['2018-04-24', None, 8.957, 8.822, 8.875, None, 13009987.0, 115553149.0, None, None, None], ['2018-04-23', None, 8.944, 8.846, 8.848, None, 11334148.0, 100551043.0, None, None, None], ['2018-04-20', None, 9.07, 8.838, 8.938, None, 17713798.0, 158659248.0, None, None, None], ['2018-04-19', None, 9.116, 9.003, 9.036, None, 10523729.0, 95298642.0, None, None, None], ['2018-04-18', None, 9.137, 8.977, 9.117, None, 12608767.0, 114553946.0, None, None, None], ['2018-04-17', None, 9.043, 8.97, 9.028, None, 11443917.0, 103139132.0, None, None, None], ['2018-04-16', None, 9.019, 8.958, 9.001, None, 6809781.0, 61237681.0, None, None, None], ['2018-04-13', None, 9.045, 8.964, 8.99, None, 8517480.0, 76644558.0, None, None, None], ['2018-04-12', None, 8.969, 8.848, 8.953, None, 10987874.0, 98018801.0, None, None, None], ['2018-04-11', None, 8.936, 8.791, 8.853, None, 10201628.0, 90353295.0, None, None, None], ['2018-04-10', None, 9.003, 8.838, 8.911, None, 13562350.0, 120985656.0, None, None, None], ['2018-04-09', None, 9.09, 8.923, 8.98, None, 8607367.0, 77499702.0, None, None, None], ['2018-04-06', None, 9.111, 8.979, 9.019, None, 10261288.0, 92707201.0, None, None, None], ['2018-04-05', None, 9.125, 8.99, 9.064, None, 11972056.0, 108349914.0, None, None, None], ['2018-04-04', None, 9.085, 8.902, 9.015, None, 11700018.0, 105275857.0, None, None, None], ['2018-04-03', None, 9.173, 8.94, 9.049, None, 13470864.0, 122159975.0, None, None, None], ['2018-03-29', None, 9.075, 8.861, 9.02, None, 14815449.0, 133019833.0, None, None, None], ['2018-03-28', None, 9.0, 8.784, 9.0, None, 16811121.0, 149972876.0, None, None, None], ['2018-03-27', None, 9.0, 8.764, 8.854, None, 13306368.0, 117667944.0, None, None, None], ['2018-03-26', None, 9.014, 8.758, 8.819, None, 12842003.0, 114089835.0, None, None, None], ['2018-03-23', None, 8.969, 8.722, 8.864, None, 17271905.0, 152827155.0, None, None, None], ['2018-03-22', None, 8.94, 8.759, 8.819, None, 15954089.0, 140873648.0, None, None, None], ['2018-03-21', None, 9.136, 8.784, 8.885, None, 16639656.0, 148674082.0, None, None, None], ['2018-03-20', None, 8.908, 8.792, 8.866, None, 9877163.0, 87462857.0, None, None, None], ['2018-03-19', None, 9.027, 8.866, 8.896, None, 15756074.0, 140610197.0, None, None, None], ['2018-03-16', None, 9.201, 8.957, 9.033, None, 30252281.0, 273628854.0, None, None, None], ['2018-03-15', None, 9.327, 9.043, 9.141, None, 18372101.0, 168105177.0, None, None, None], ['2018-03-14', None, 9.352, 9.121, 9.228, None, 18295030.0, 168657168.0, None, None, None], ['2018-03-13', None, 9.47, 9.242, 9.251, None, 38824081.0, 362585909.0, None, None, None], ['2018-03-12', None, 9.079, 8.691, 8.906, None, 53049565.0, 471795772.0, None, None, None], ['2018-03-09', None, 8.568, 8.407, 8.453, None, 10344827.0, 87642989.0, None, None, None], ['2018-03-08', None, 8.533, 8.32, 8.507, None, 10323536.0, 87126264.0, None, None, None], ['2018-03-07', None, 8.431, 8.305, 8.424, None, 8724911.0, 73050403.0, None, None, None], ['2018-03-06', None, 8.495, 8.317, 8.387, None, 10981137.0, 92251794.0, None, None, None], ['2018-03-05', None, 8.383, 7.995, 8.377, None, 16993004.0, 140340864.0, None, None, None], ['2018-03-02', None, 8.19, 8.015, 8.027, None, 13475639.0, 109045776.0, None, None, None], ['2018-03-01', None, 8.41, 8.215, 8.231, None, 12730481.0, 105319294.0, None, None, None], ['2018-02-28', None, 8.548, 8.35, 8.36, None, 15472158.0, 130221676.0, None, None, None], ['2018-02-27', None, 8.695, 8.517, 8.562, None, 9496676.0, 81509606.0, None, None, None], ['2018-02-26', None, 8.779, 8.597, 8.653, None, 11100770.0, 96167207.0, None, None, None], ['2018-02-23', None, 8.695, 8.405, 8.684, None, 18856293.0, 161888534.0, None, None, None], ['2018-02-22', None, 8.407, 8.107, 8.368, None, 12495153.0, 103364830.0, None, None, None], ['2018-02-21', None, 8.259, 8.141, 8.203, None, 9737461.0, 79746153.0, None, None, None], ['2018-02-20', None, 8.26, 8.125, 8.253, None, 10968573.0, 90044849.0, None, None, None], ['2018-02-19', None, 8.191, 8.075, 8.139, None, 8521216.0, 69251775.0, None, None, None], ['2018-02-16', None, 8.188, 8.052, 8.14, None, 13588284.0, 110411397.0, None, None, None], ['2018-02-15', None, 8.16, 7.933, 8.004, None, 15379343.0, 123125796.0, None, None, None], ['2018-02-14', None, 8.134, 7.898, 8.1, None, 17604928.0, 141650721.0, None, None, None], ['2018-02-13', None, 8.009, 7.877, 7.885, None, 13463673.0, 106646851.0, None, None, None], ['2018-02-12', None, 8.137, 7.984, 8.018, None, 12647664.0, 101775201.0, None, None, None], ['2018-02-09', None, 8.092, 7.901, 7.992, None, 19614891.0, 156790558.0, None, None, None], ['2018-02-08', None, 8.186, 8.02, 8.08, None, 20641779.0, 167276220.0, None, None, None], ['2018-02-07', None, 8.266, 8.109, 8.23, None, 18588606.0, 152296404.0, None, None, None], ['2018-02-06', None, 8.211, 8.051, 8.1, None, 24651620.0, 200251452.0, None, None, None], ['2018-02-05', None, 8.425, 8.138, 8.29, None, 16223681.0, 134659992.0, None, None, None], ['2018-02-02', None, 8.36, 8.197, 8.24, None, 14600985.0, 120376475.0, None, None, None], ['2018-02-01', None, 8.612, 8.332, 8.37, None, 16528119.0, 139228129.0, None, None, None], ['2018-01-31', None, 8.562, 8.411, 8.46, None, 12075627.0, 102320536.0, None, None, None], ['2018-01-30', None, 8.61, 8.506, 8.51, None, 12097189.0, 103293882.0, None, None, None], ['2018-01-29', None, 8.625, 8.5, 8.59, None, 9893147.0, 84797150.0, None, None, None], ['2018-01-26', None, 8.742, 8.595, 8.62, None, 10226168.0, 88515356.0, None, None, None], ['2018-01-25', None, 8.888, 8.615, 8.66, None, 14474628.0, 126526104.0, None, None, None], ['2018-01-24', None, 9.104, 8.804, 8.8, None, 16904559.0, 150537613.0, None, None, None], ['2018-01-23', None, 9.103, 8.96, 9.08, None, 13753824.0, 124447012.0, None, None, None], ['2018-01-22', None, 9.01, 8.881, 9.01, None, 8037051.0, 72128665.0, None, None, None], ['2018-01-19', None, 8.963, 8.855, 8.92, None, 14308845.0, 127604172.0, None, None, None], ['2018-01-18', None, 8.91, 8.784, 8.88, None, 16014160.0, 141877107.0, None, None, None], ['2018-01-17', None, 9.092, 8.897, 8.93, None, 13379912.0, 119890419.0, None, None, None], ['2018-01-16', None, 9.16, 8.897, 9.05, None, 14713377.0, 133467463.0, None, None, None], ['2018-01-15', None, 8.959, 8.858, 8.93, None, 7570356.0, 67476474.0, None, None, None], ['2018-01-12', None, 8.966, 8.847, 8.91, None, 10460609.0, 93204672.0, None, None, None], ['2018-01-11', None, 9.02, 8.856, 8.9, None, 11321090.0, 101039998.0, None, None, None], ['2018-01-02', 9.09, 9.11, 9.0, 9.08, None, 10660669.0, 96581608.0, None, None, None], ['2017-12-29', 9.09, 9.12, 9.06, 9.06, None, 6460376.0, 58678823.0, None, None, None], ['2017-12-28', 9.15, 9.16, 9.06, 9.08, None, 5767048.0, 52509707.0, None, None, None], ['2017-12-27', 9.22, 9.28, 9.1, 9.15, None, 5746408.0, 52653378.0, None, None, None], ['2017-12-22', 9.11, 9.29, 9.1, 9.21, None, 7136948.0, 65877661.0, None, None, None], ['2017-12-21', 9.24, 9.28, 9.12, 9.16, None, 9590049.0, 88152723.0, None, None, None], ['2017-12-20', 9.43, 9.52, 9.22, 9.24, None, 11120418.0, 103561432.0, None, None, None], ['2017-12-19', 9.49, 9.5, 9.4, 9.4, None, 9705665.0, 91649218.0, None, None, None], ['2017-12-18', 9.48, 9.52, 9.4, 9.46, None, 8325901.0, 78752663.0, None, None, None], ['2017-12-15', 9.26, 9.44, 9.25, 9.39, None, 25076740.0, 234665258.0, None, None, None], ['2017-12-14', 9.27, 9.5, 9.08, 9.18, None, 24704077.0, 229276312.0, None, None, None], ['2017-12-13', 9.61, 9.67, 8.97, 9.22, None, 33648171.0, 312564976.0, None, None, None], ['2017-12-12', 9.65, 9.71, 9.62, 9.7, None, 9173835.0, 88856743.0, None, None, None], ['2017-12-11', 9.8, 9.83, 9.59, 9.64, None, 10447841.0, 100873030.0, None, None, None], ['2017-12-08', 9.82, 9.88, 9.74, 9.79, None, 8779613.0, 86140695.0, None, None, None], ['2017-12-07', 9.69, 9.79, 9.64, 9.76, None, 6903431.0, 67166910.0, None, None, None], ['2017-12-06', 9.68, 9.72, 9.57, 9.68, None, 8868812.0, 85503006.0, None, None, None], ['2017-12-05', 9.65, 9.79, 9.64, 9.76, None, 9538531.0, 92799452.0, None, None, None], ['2017-12-04', 9.7, 9.71, 9.58, 9.66, None, 8454783.0, 81666334.0, None, None, None], ['2017-12-01', 9.74, 9.8, 9.55, 9.61, None, 13552604.0, 130845736.0, None, None, None], ['2017-11-30', 9.85, 9.97, 9.71, 9.72, None, 17107609.0, 167415671.0, None, None, None], ['2017-11-29', 9.82, 9.98, 9.79, 9.85, None, 11768558.0, 116461173.0, None, None, None], ['2017-11-28', 9.7, 9.79, 9.64, 9.76, None, 8009273.0, 77954571.0, None, None, None], ['2017-11-27', 9.69, 9.79, 9.67, 9.7, None, 6221570.0, 60548768.0, None, None, None], ['2017-11-24', 9.75, 9.82, 9.68, 9.72, None, 6570531.0, 63935522.0, None, None, None], ['2017-11-23', 9.7, 9.78, 9.64, 9.74, None, 6970179.0, 67751858.0, None, None, None], ['2017-11-22', 9.84, 9.96, 9.73, 9.75, None, 8950816.0, 88194298.0, None, None, None], ['2017-11-21', 9.77, 9.85, 9.52, 9.82, None, 12917367.0, 126088034.0, None, None, None], ['2017-11-20', 9.84, 9.85, 9.74, 9.77, None, 10283951.0, 100659615.0, None, None, None], ['2017-11-17', 10.01, 10.04, 9.77, 9.78, None, 13413856.0, 132151905.0, None, None, None], ['2017-11-16', 9.98, 10.04, 9.9, 10.02, None, 10969182.0, 109518068.0, None, None, None], ['2017-11-15', 9.92, 9.93, 9.7, 9.91, None, 15746282.0, 154918403.0, None, None, None], ['2017-11-14', 10.18, 10.24, 9.96, 9.99, None, 11530898.0, 116131952.0, None, None, None], ['2017-11-13', 10.3, 10.37, 9.97, 10.1, None, 12297543.0, 124284859.0, None, None, None], ['2017-11-10', 10.43, 10.5, 10.26, 10.26, None, 12584979.0, 130175212.0, None, None, None], ['2017-11-09', 10.75, 10.81, 10.35, 10.41, None, 15724556.0, 165110919.0, None, None, None], ['2017-11-08', 10.69, 10.75, 10.59, 10.69, None, 9864769.0, 105376599.0, None, None, None], ['2017-11-07', 10.53, 10.62, 10.47, 10.55, None, 10600909.0, 111777664.0, None, None, None], ['2017-11-06', 10.37, 10.5, 10.37, 10.48, None, 6765481.0, 70713026.0, None, None, None], ['2017-11-03', 10.46, 10.5, 10.33, 10.37, None, 7982853.0, 82871298.0, None, None, None], ['2017-11-02', 10.4, 10.45, 10.33, 10.41, None, 8071340.0, 83908015.0, None, None, None], ['2017-11-01', 10.16, 10.5, 10.16, 10.39, None, 11849267.0, 122972211.0, None, None, None], ['2017-10-30', 10.09, 10.15, 10.03, 10.13, None, 7569961.0, 76504742.0, None, None, None], ['2017-10-27', 10.03, 10.11, 9.98, 10.08, None, 11443604.0, 115102668.0, None, None, None], ['2017-10-26', 9.84, 10.0, 9.7, 9.98, None, 12834154.0, 126846747.0, None, None, None], ['2017-10-25', 10.02, 10.04, 9.76, 9.8, None, 9641638.0, 95107297.0, None, None, None], ['2017-10-24', 10.02, 10.1, 9.97, 10.03, None, 7363819.0, 73825942.0, None, None, None], ['2017-10-23', 10.05, 10.11, 9.97, 10.03, None, 5216848.0, 52372544.0, None, None, None], ['2017-10-20', 10.03, 10.13, 10.01, 10.04, None, 8275609.0, 83180867.0, None, None, None], ['2017-10-19', 10.01, 10.05, 9.92, 10.0, None, 9451721.0, 94333642.0, None, None, None], ['2017-10-18', 10.08, 10.1, 9.96, 9.96, None, 6020907.0, 60202305.0, None, None, None], ['2017-10-17', 9.93, 10.1, 9.92, 10.04, None, 7590534.0, 76215676.0, None, None, None], ['2017-10-16', 10.02, 10.02, 9.92, 9.94, None, 5663369.0, 56348366.0, None, None, None], ['2017-10-13', 9.99, 10.07, 9.95, 9.99, None, 7985728.0, 79819962.0, None, None, None], ['2017-10-12', 9.9, 10.01, 9.84, 9.96, None, 10431848.0, 103733631.0, None, None, None], ['2017-10-11', 9.63, 9.88, 9.63, 9.86, None, 11999729.0, 117664783.0, None, None, None], ['2017-10-10', 9.67, 9.7, 9.54, 9.59, None, 7654976.0, 73421334.0, None, None, None], ['2017-10-09', 9.43, 9.73, 9.43, 9.69, None, 12158769.0, 116994569.0, None, None, None], ['2017-10-06', 9.53, 9.56, 9.38, 9.4, None, 9539250.0, 90087504.0, None, None, None], ['2017-10-05', 9.4, 9.61, 9.4, 9.51, None, 10223801.0, 97296689.0, None, None, None], ['2017-10-04', 9.7, 9.77, 9.21, 9.42, None, 27239097.0, 256637207.0, None, None, None], ['2017-10-02', 9.58, 9.69, 9.55, 9.69, None, 8449108.0, 81466532.0, None, None, None], ['2017-09-29', 9.36, 9.58, 9.33, 9.58, None, 16145484.0, 153465206.0, None, None, None], ['2017-09-28', 9.36, 9.36, 9.27, 9.36, None, 9756533.0, 91043702.0, None, None, None], ['2017-09-27', 9.35, 9.4, 9.25, 9.37, None, 10186515.0, 95176147.0, None, None, None], ['2017-09-26', 9.25, 9.35, 9.22, 9.32, None, 7778453.0, 72467672.0, None, None, None], ['2017-09-25', 9.27, 9.36, 9.18, 9.25, None, 9840754.0, 91134020.0, None, None, None], ['2017-09-22', 9.18, 9.32, 9.17, 9.31, None, 8978085.0, 83297106.0, None, None, None], ['2017-09-21', 9.5, 9.5, 9.19, 9.2, None, 15323706.0, 141717907.0, None, None, None], ['2017-09-20', 9.17, 9.58, 9.16, 9.46, None, 21672644.0, 204578482.0, None, None, None], ['2017-09-19', 9.2, 9.24, 9.11, 9.21, None, 6880388.0, 63190793.0, None, None, None], ['2017-09-18', 9.23, 9.32, 9.17, 9.21, None, 8209261.0, 75703305.0, None, None, None], ['2017-09-15', 9.13, 9.25, 9.12, 9.16, None, 22329629.0, 205289081.0, None, None, None], ['2017-09-14', 9.28, 9.29, 9.16, 9.21, None, 13029895.0, 120073617.0, None, None, None], ['2017-09-13', 9.4, 9.52, 9.28, 9.3, None, 15424594.0, 144270967.0, None, None, None], ['2017-09-12', 9.68, 9.74, 9.45, 9.45, None, 11023080.0, 105500771.0, None, None, None], ['2017-09-11', 9.53, 9.65, 9.49, 9.64, None, 7915425.0, 76072127.0, None, None, None], ['2017-09-08', 9.58, 9.62, 9.51, 9.58, None, 7409533.0, 70870074.0, None, None, None], ['2017-09-07', 9.48, 9.68, 9.46, 9.57, None, 14701523.0, 141113708.0, None, None, None], ['2017-09-06', 9.46, 9.52, 9.36, 9.4, None, 13119331.0, 123710453.0, None, None, None], ['2017-09-05', 9.56, 9.6, 9.47, 9.54, None, 7270786.0, 69353908.0, None, None, None], ['2017-09-04', 9.55, 9.59, 9.5, 9.57, None, 6551151.0, 62602246.0, None, None, None], ['2017-09-01', 9.53, 9.67, 9.53, 9.63, None, 8873168.0, 85307201.0, None, None, None], ['2017-08-31', 9.51, 9.61, 9.49, 9.5, None, 8807110.0, 83920590.0, None, None, None], ['2017-08-30', 9.47, 9.52, 9.33, 9.49, None, 7429024.0, 70129271.0, None, None, None], ['2017-08-29', 9.42, 9.47, 9.29, 9.41, None, 9723968.0, 91324255.0, None, None, None], ['2017-08-28', 9.41, 9.54, 9.4, 9.48, None, 3983190.0, 37768897.0, None, None, None], ['2017-08-25', 9.45, 9.51, 9.31, 9.46, None, 9539565.0, 90046490.0, None, None, None], ['2017-08-24', 9.4, 9.52, 9.38, 9.43, None, 8650308.0, 81784511.0, None, None, None], ['2017-08-23', 9.51, 9.58, 9.37, 9.37, None, 11579355.0, 109075295.0, None, None, None], ['2017-08-22', 9.45, 9.48, 9.41, 9.44, None, 10609864.0, 100240360.0, None, None, None], ['2017-08-21', 9.59, 9.62, 9.34, 9.4, None, 15995054.0, 151122639.0, None, None, None], ['2017-08-18', 9.53, 9.62, 9.5, 9.62, None, 11557298.0, 110545855.0, None, None, None], ['2017-08-17', 9.6, 9.71, 9.58, 9.6, None, 10888933.0, 104848365.0, None, None, None], ['2017-08-16', 9.59, 9.61, 9.5, 9.6, None, 9717220.0, 92946666.0, None, None, None], ['2017-08-15', 9.5, 9.6, 9.47, 9.53, None, 10048807.0, 95844151.0, None, None, None], ['2017-08-14', 9.34, 9.51, 9.33, 9.45, None, 16060579.0, 151747829.0, None, None, None], ['2017-08-11', 9.08, 9.29, 9.06, 9.26, None, 14591789.0, 134444500.0, None, None, None], ['2017-08-10', 9.23, 9.41, 9.06, 9.12, None, 19513172.0, 179620232.0, None, None, None], ['2017-08-09', 8.98, 9.24, 8.66, 9.23, None, 32195058.0, 289748537.0, None, None, None], ['2017-08-08', 8.8, 8.93, 8.73, 8.9, None, 13287027.0, 117412118.0, None, None, None], ['2017-08-07', 8.83, 8.83, 8.7, 8.75, None, 9317865.0, 81470723.0, None, None, None], ['2017-08-04', 8.53, 8.83, 8.51, 8.81, None, 16269744.0, 142057194.0, None, None, None], ['2017-08-03', 8.53, 8.6, 8.47, 8.52, None, 9895592.0, 84409965.0, None, None, None], ['2017-08-02', 8.64, 8.69, 8.48, 8.53, None, 9365873.0, 80352199.0, None, None, None], ['2017-08-01', 8.4, 8.59, 8.38, 8.55, None, 11013587.0, 93611124.0, None, None, None], ['2017-07-31', 8.26, 8.46, 8.25, 8.36, None, 10560439.0, 88438630.0, None, None, None], ['2017-07-28', 8.38, 8.39, 8.23, 8.26, None, 10163161.0, 84127418.0, None, None, None], ['2017-07-27', 8.36, 8.52, 8.34, 8.43, None, 8713476.0, 73653514.0, None, None, None], ['2017-07-26', 8.31, 8.44, 8.28, 8.38, None, 8393118.0, 70419338.0, None, None, None], ['2017-07-25', 8.35, 8.38, 8.28, 8.3, None, 7953383.0, 66186157.0, None, None, None], ['2017-07-24', 8.37, 8.42, 8.34, 8.34, None, 7184752.0, 60113576.0, None, None, None], ['2017-07-21', 8.44, 8.53, 8.3, 8.36, None, 12850957.0, 108130516.0, None, None, None], ['2017-07-20', 8.6, 8.64, 8.42, 8.46, None, 10672283.0, 90737748.0, None, None, None], ['2017-07-19', 8.52, 8.56, 8.48, 8.55, None, 8851145.0, 75494350.0, None, None, None], ['2017-07-18', 8.54, 8.58, 8.46, 8.49, None, 7970806.0, 67776284.0, None, None, None], ['2017-07-17', 8.6, 8.62, 8.53, 8.56, None, 5588141.0, 47861908.0, None, None, None], ['2017-07-14', 8.57, 8.62, 8.53, 8.57, None, 6319051.0, 54172394.0, None, None, None], ['2017-07-13', 8.62, 8.65, 8.52, 8.59, None, 8400494.0, 72137291.0, None, None, None], ['2017-07-12', 8.39, 8.61, 8.36, 8.59, None, 10562218.0, 89946459.0, None, None, None], ['2017-07-11', 8.46, 8.52, 8.35, 8.36, None, 8705480.0, 73116015.0, None, None, None], ['2017-07-10', 8.42, 8.48, 8.33, 8.43, None, 12868805.0, 108324928.0, None, None, None], ['2017-07-07', 8.17, 8.34, 8.15, 8.24, None, 14552537.0, 120180639.0, None, None, None], ['2017-07-06', 8.25, 8.26, 8.0, 8.08, None, 15050369.0, 121613497.0, None, None, None], ['2017-07-05', 8.25, 8.3, 8.21, 8.23, None, 8636544.0, 71259317.0, None, None, None], ['2017-07-04', 8.29, 8.32, 8.22, 8.27, None, 7173065.0, 59349288.0, None, None, None], ['2017-07-03', 8.34, 8.39, 8.26, 8.31, None, 8683979.0, 72221601.0, None, None, None], ['2017-06-30', 8.35, 8.47, 8.25, 8.25, None, 12404646.0, 103286544.0, None, None, None], ['2017-06-29', 8.62, 8.66, 8.33, 8.36, None, 13842869.0, 116532872.0, None, None, None], ['2017-06-28', 8.6, 8.69, 8.48, 8.57, None, 14634382.0, 125632088.0, None, None, None], ['2017-06-27', 8.93, 8.97, 8.68, 8.69, None, 14607581.0, 128185795.0, None, None, None], ['2017-06-26', 8.94, 9.0, 8.89, 8.96, None, 6866528.0, 61436516.0, None, None, None], ['2017-06-23', 9.0, 9.03, 8.86, 8.91, None, 9735894.0, 86740502.0, None, None, None], ['2017-06-22', 8.98, 9.08, 8.93, 9.03, None, 11581164.0, 104364456.0, None, None, None], ['2017-06-21', 9.03, 9.1, 8.96, 9.05, None, 8863975.0, 80071192.0, None, None, None], ['2017-06-20', 9.1, 9.17, 8.98, 9.06, None, 15777778.0, 143437660.0, None, None, None], ['2017-06-19', 8.98, 9.06, 8.9, 8.97, None, 12191234.0, 109348400.0, None, None, None], ['2017-06-16', 8.83, 8.88, 8.76, 8.84, None, 37575283.0, 331880227.0, None, None, None], ['2017-06-15', 8.82, 8.82, 8.61, 8.79, None, 12888067.0, 112595899.0, None, None, None], ['2017-06-14', 8.66, 8.91, 8.65, 8.82, None, 14786190.0, 130388482.0, None, None, None], ['2017-06-13', 8.69, 8.74, 8.57, 8.64, None, 12380558.0, 107103372.0, None, None, None], ['2017-06-12', 8.78, 8.79, 8.63, 8.66, None, 13956678.0, 121229854.0, None, None, None], ['2017-06-09', 8.8, 8.86, 8.66, 8.8, None, 15157954.0, 132742562.0, None, None, None], ['2017-06-08', 8.55, 8.84, 8.54, 8.79, None, 296098.0, 2575466.0, None, None, None], ['2017-06-07', 8.03, 8.54, 7.93, 8.45, None, 341181.0, 2852694.0, None, None, None], ['2017-06-06', 7.8, 8.09, 7.77, 8.05, None, 25116302.0, 200012623.0, None, None, None], ['2017-06-02', 7.8, 7.91, 7.8, 7.83, None, 47993.0, 376818.0, None, None, None], ['2017-06-01', 7.8, 7.88, 7.75, 7.78, None, 81143.0, 632910.0, None, None, None], ['2017-05-31', 7.6, 7.88, 7.59, 7.75, None, 44102.0, 340455.0, None, None, None], ['2017-05-30', 7.56, 7.59, 7.54, 7.58, None, 21056.0, 159261.0, None, None, None], ['2017-05-29', 7.51, 7.56, 7.49, 7.56, None, 25539.0, 191981.0, None, None, None], ['2017-05-26', 7.6, 7.6, 7.48, 7.54, None, 11817979.0, 88926416.0, None, None, None], ['2017-05-25', 7.68, 7.7, 7.61, 7.62, None, 7109174.0, 54325827.0, None, None, None], ['2017-05-24', 7.68, 7.76, 7.64, 7.65, None, 11430214.0, 87595402.0, None, None, None], ['2017-05-23', 7.37, 7.68, 7.37, 7.68, None, 21299782.0, 161594760.0, None, None, None], ['2017-05-22', 7.43, 7.49, 7.38, 7.39, None, 12057526.0, 89483127.0, None, None, None], ['2017-05-19', 7.17, 7.46, 7.17, 7.39, None, 109481.0, 803968.0, None, None, None], ['2017-05-18', 7.21, 7.23, 7.11, 7.17, None, 13175778.0, 94434217.0, None, None, None], ['2017-05-17', 7.25, 7.26, 7.17, 7.2, None, 14287354.0, 102887569.0, None, None, None], ['2017-05-16', 7.29, 7.35, 7.25, 7.28, None, 10346390.0, 75381632.0, None, None, None], ['2017-05-15', 7.24, 7.31, 7.19, 7.3, None, 11780458.0, 85454077.0, None, None, None], ['2017-05-12', 7.21, 7.26, 7.14, 7.21, None, 12903026.0, 92799571.0, None, None, None], ['2017-05-11', 7.25, 7.35, 7.17, 7.21, None, 18393984.0, 133472940.0, None, None, None], ['2017-05-10', 7.37, 7.42, 7.28, 7.4, None, 22158490.0, 162925962.0, None, None, None], ['2017-05-09', 7.09, 7.43, 7.01, 7.4, None, 32514013.0, 237346562.0, None, None, None], ['2017-05-08', 7.11, 7.14, 7.05, 7.09, None, 13455502.0, 95588363.0, None, None, None], ['2017-05-05', 7.08, 7.1, 7.01, 7.07, None, 20059732.0, 141339828.0, None, None, None], ['2017-05-04', 7.17, 7.19, 7.06, 7.15, None, 20530824.0, 146192823.0, None, None, None], ['2017-05-03', 7.25, 7.25, 7.13, 7.16, None, 11568346.0, 82852195.0, None, None, None], ['2017-05-02', 7.17, 7.28, 7.14, 7.25, None, 9925962.0, 71776370.0, None, None, None], ['2017-04-28', 7.1, 7.17, 7.08, 7.16, None, 12604903.0, 89924717.0, None, None, None], ['2017-04-27', 7.12, 7.19, 7.08, 7.12, None, 10497475.0, 74864050.0, None, None, None], ['2017-04-26', 7.23, 7.24, 7.13, 7.15, None, 10439934.0, 74748192.0, None, None, None], ['2017-04-25', 7.29, 7.29, 7.21, 7.23, None, 9686762.0, 70079822.0, None, None, None], ['2017-04-24', 7.28, 7.37, 7.23, 7.26, None, 18894764.0, 137794927.0, None, None, None], ['2017-04-21', 7.12, 7.19, 7.05, 7.17, None, 15464254.0, 110241181.0, None, None, None], ['2017-04-20', 7.13, 7.21, 7.08, 7.11, None, 13038922.0, 92981651.0, None, None, None], ['2017-04-19', 7.2, 7.22, 7.11, 7.12, None, 13022034.0, 93038115.0, None, None, None], ['2017-04-18', 7.3, 7.36, 7.18, 7.2, None, 11449732.0, 83013031.0, None, None, None], ['2017-04-13', 7.35, 7.37, 7.28, 7.28, None, 6917993.0, 50548506.0, None, None, None], ['2017-04-12', 7.38, 7.42, 7.33, 7.37, None, 7721497.0, 56938723.0, None, None, None], ['2017-04-11', 7.33, 7.4, 7.32, 7.38, None, 8169606.0, 60171996.0, None, None, None], ['2017-04-10', 7.4, 7.42, 7.31, 7.36, None, 5788704.0, 42551549.0, None, None, None], ['2017-04-07', 7.37, 7.39, 7.32, 7.39, None, 9557643.0, 70380729.0, None, None, None], ['2017-04-06', 7.27, 7.36, 7.21, 7.35, None, 10164535.0, 74279031.0, None, None, None], ['2017-04-05', 7.33, 7.37, 7.3, 7.3, None, 12337319.0, 90344920.0, None, None, None], ['2017-04-04', 7.41, 7.42, 7.27, 7.31, None, 11596800.0, 84838353.0, None, None, None], ['2017-04-03', 7.49, 7.5, 7.4, 7.4, None, 12432014.0, 92404837.0, None, None, None], ['2017-03-31', 7.3, 7.45, 7.29, 7.45, None, 17352669.0, 128587248.0, None, None, None], ['2017-03-30', 7.34, 7.36, 7.26, 7.3, None, 10921616.0, 79748786.0, None, None, None], ['2017-03-29', 7.34, 7.39, 7.29, 7.33, None, 10928460.0, 80178834.0, None, None, None], ['2017-03-28', 7.3, 7.37, 7.28, 7.31, None, 15912006.0, 116476633.0, None, None, None], ['2017-03-27', 7.21, 7.27, 7.14, 7.25, None, 13601249.0, 98228809.0, None, None, None], ['2017-03-24', 7.2, 7.28, 7.16, 7.26, None, 14770906.0, 107095020.0, None, None, None], ['2017-03-23', 7.14, 7.17, 7.07, 7.16, None, 10744019.0, 76609792.0, None, None, None], ['2017-03-22', 7.11, 7.14, 7.05, 7.1, None, 25728721.0, 182668575.0, None, None, None], ['2017-03-21', 7.18, 7.23, 7.08, 7.1, None, 24136519.0, 172708863.0, None, None, None], ['2017-03-20', 7.08, 7.17, 7.04, 7.15, None, 14494303.0, 103075147.0, None, None, None], ['2017-03-17', 6.83, 7.09, 6.79, 7.08, None, 47839725.0, 333177775.0, None, None, None], ['2017-03-16', 6.9, 6.9, 6.81, 6.83, None, 19074472.0, 130570469.0, None, None, None], ['2017-03-15', 7.1, 7.11, 6.7, 6.77, None, 35037024.0, 238969011.0, None, None, None], ['2017-03-14', 7.14, 7.16, 7.0, 7.02, None, 22605809.0, 159608485.0, None, None, None], ['2017-03-13', 7.04, 7.06, 6.97, 6.99, None, 10148631.0, 71040484.0, None, None, None], ['2017-03-10', 7.1, 7.19, 7.03, 7.03, None, 13326866.0, 94648058.0, None, None, None], ['2017-03-09', 7.06, 7.09, 6.98, 7.05, None, 19595742.0, 138002620.0, None, None, None], ['2017-03-08', 7.35, 7.37, 7.11, 7.11, None, 21653884.0, 155534792.0, None, None, None], ['2017-03-07', 7.51, 7.51, 7.32, 7.38, None, 15116696.0, 111709918.0, None, None, None], ['2017-03-06', 7.47, 7.57, 7.41, 7.55, None, 9031030.0, 67892911.0, None, None, None], ['2017-03-03', 7.44, 7.59, 7.44, 7.48, None, 11062627.0, 83030609.0, None, None, None], ['2017-03-02', 7.48, 7.6, 7.44, 7.46, None, 11291216.0, 84693469.0, None, None, None], ['2017-03-01', 7.35, 7.5, 7.35, 7.49, None, 11900542.0, 88773706.0, None, None, None], ['2017-02-28', 7.34, 7.35, 7.28, 7.33, None, 8110142.0, 59340006.0, None, None, None], ['2017-02-27', 7.16, 7.34, 7.14, 7.32, None, 12374970.0, 89896619.0, None, None, None], ['2017-02-24', 7.22, 7.26, 7.08, 7.14, None, 9719907.0, 69501774.0, None, None, None], ['2017-02-23', 7.21, 7.24, 7.18, 7.24, None, 6321485.0, 45635613.0, None, None, None], ['2017-02-22', 7.22, 7.28, 7.19, 7.2, None, 8137318.0, 58807199.0, None, None, None], ['2017-02-21', 7.15, 7.25, 7.13, 7.22, None, 8934462.0, 64373793.0, None, None, None], ['2017-02-20', 7.11, 7.16, 7.07, 7.14, None, 7151697.0, 50960082.0, None, None, None], ['2017-02-17', 7.13, 7.13, 7.01, 7.06, None, 9265519.0, 65437732.0, None, None, None], ['2017-02-16', 7.12, 7.16, 7.08, 7.13, None, 8469225.0, 60353034.0, None, None, None], ['2017-02-15', 7.2, 7.26, 7.08, 7.14, None, 8495661.0, 60798922.0, None, None, None], ['2017-02-14', 7.23, 7.26, 7.13, 7.16, None, 9158050.0, 65966885.0, None, None, None], ['2017-02-13', 7.09, 7.27, 7.07, 7.21, None, 12462574.0, 89751666.0, None, None, None], ['2017-02-10', 7.12, 7.19, 7.07, 7.08, None, 7274426.0, 51744799.0, None, None, None], ['2017-02-09', 6.99, 7.18, 6.99, 7.08, None, 12535086.0, 89041130.0, None, None, None], ['2017-02-08', 6.92, 7.0, 6.88, 6.98, None, 9371655.0, 65217995.0, None, None, None], ['2017-02-07', 6.91, 6.99, 6.9, 6.94, None, 6125955.0, 42521066.0, None, None, None], ['2017-02-06', 6.99, 7.03, 6.89, 6.9, None, 10687733.0, 74304082.0, None, None, None], ['2017-02-03', 6.97, 7.02, 6.86, 6.97, None, 13307893.0, 92307197.0, None, None, None], ['2017-02-02', 7.06, 7.07, 6.98, 7.04, None, 9721488.0, 68382636.0, None, None, None], ['2017-02-01', 7.16, 7.22, 7.03, 7.05, None, 12254469.0, 87024473.0, None, None, None], ['2017-01-31', 7.1, 7.18, 7.06, 7.1, None, 14253887.0, 101409524.0, None, None, None], ['2017-01-30', 7.23, 7.24, 7.1, 7.11, None, 13393862.0, 95560680.0, None, None, None], ['2017-01-27', 7.37, 7.37, 7.27, 7.28, None, 6719932.0, 49091211.0, None, None, None], ['2017-01-26', 7.4, 7.4, 7.3, 7.35, None, 8232211.0, 60493053.0, None, None, None], ['2017-01-25', 7.34, 7.39, 7.27, 7.35, None, 10523803.0, 77297792.0, None, None, None], ['2017-01-24', 7.34, 7.35, 7.24, 7.27, None, 10188164.0, 74136964.0, None, None, None], ['2017-01-23', 7.33, 7.36, 7.27, 7.32, None, 8137863.0, 59578446.0, None, None, None], ['2017-01-20', 7.32, 7.42, 7.3, 7.36, None, 11557939.0, 85114985.0, None, None, None], ['2017-01-19', 7.36, 7.37, 7.26, 7.31, None, 11817024.0, 86482218.0, None, None, None], ['2017-01-18', 7.37, 7.43, 7.23, 7.35, None, 16499610.0, 121012543.0, None, None, None], ['2017-01-17', 7.25, 7.26, 7.18, 7.24, None, 8101383.0, 58449263.0, None, None, None], ['2017-01-16', 7.2, 7.28, 7.16, 7.22, None, 10568475.0, 76383668.0, None, None, None], ['2017-01-13', 7.2, 7.22, 7.06, 7.17, None, 12281550.0, 87603885.0, None, None, None], ['2017-01-12', 7.02, 7.26, 7.01, 7.17, None, 21858592.0, 156742283.0, None, None, None], ['2017-01-11', 6.7, 7.06, 6.7, 7.0, None, 26015232.0, 179709628.0, None, None, None], ['2017-01-10', 6.65, 6.68, 6.53, 6.68, None, 11885718.0, 78729742.0, None, None, None], ['2017-01-09', 6.68, 6.7, 6.6, 6.64, None, 6713309.0, 44560762.0, None, None, None], ['2017-01-06', 6.69, 6.7, 6.63, 6.65, None, 7002514.0, 46636671.0, None, None, None], ['2017-01-05', 6.65, 6.74, 6.63, 6.71, None, 6821258.0, 45641465.0, None, None, None], ['2017-01-04', 6.76, 6.76, 6.64, 6.68, None, 8110881.0, 54183528.0, None, None, None], ['2017-01-03', 6.85, 6.85, 6.71, 6.73, None, 10582812.0, 71365029.0, None, None, None], ['2017-01-02', 6.72, 6.87, 6.7, 6.82, None, 6957428.0, 47408816.0, None, None, None]], 'collapse': None, 'order': None, 'database_id': 6129}\n"
     ]
    }
   ],
   "source": [
    "#.2) Convert the returned JSON object into a Python dictionary.\n",
    "# Did this to get info about our dataset \n",
    "for k in r.keys():\n",
    "    print(k +':',r[k])"
   ]
  },
  {
   "cell_type": "code",
   "execution_count": 53,
   "metadata": {},
   "outputs": [],
   "source": [
    "# Learned that 'dataset' was the key to the rest of the data, so we take it's value and call it our data\n",
    "dict = r['dataset']"
   ]
  },
  {
   "cell_type": "code",
   "execution_count": 54,
   "metadata": {},
   "outputs": [
    {
     "name": "stdout",
     "output_type": "stream",
     "text": [
      "dict_keys(['id', 'dataset_code', 'database_code', 'name', 'description', 'refreshed_at', 'newest_available_date', 'oldest_available_date', 'column_names', 'frequency', 'type', 'premium', 'limit', 'transform', 'column_index', 'start_date', 'end_date', 'data', 'collapse', 'order', 'database_id'])\n"
     ]
    }
   ],
   "source": [
    "# A test function just to make sure that it operates as a dictionary and it does!\n",
    "print(dict.keys())"
   ]
  },
  {
   "cell_type": "code",
   "execution_count": 56,
   "metadata": {},
   "outputs": [
    {
     "name": "stdout",
     "output_type": "stream",
     "text": [
      "['Date', 'Open', 'High', 'Low', 'Close', 'Change', 'Traded Volume', 'Turnover', 'Last Price of the Day', 'Daily Traded Units', 'Daily Turnover']\n"
     ]
    }
   ],
   "source": [
    "# 3.) Calculate what the highest and lowest opening prices were for the stock in this period.\n",
    "print(dict['column_names'])"
   ]
  },
  {
   "cell_type": "code",
   "execution_count": 102,
   "metadata": {},
   "outputs": [
    {
     "name": "stdout",
     "output_type": "stream",
     "text": [
      "10.75\n",
      "6.65\n"
     ]
    }
   ],
   "source": [
    "# To create a list of the opening values we do the following nested for loop\n",
    "data = dict['data']\n",
    "open = []\n",
    "for value in data:\n",
    "        open.append(value[1])\n",
    "# The missing data values are creating problems, so for now we will create a list without them\n",
    "clean_open = []\n",
    "for value in open:\n",
    "    if value != None :\n",
    "        clean_open.append(value)\n",
    "# We now have our beautiful list and can proceed to either sort of pull the max value\n",
    "print(max(clean_open))\n",
    "print(min(clean_open))"
   ]
  },
  {
   "cell_type": "code",
   "execution_count": 123,
   "metadata": {},
   "outputs": [],
   "source": [
    "# 4.) What was the largest change in any one day (based on High and Low price)?\n",
    "# Using the same method we can create clean lists of both the high price and the low price and only need change the index of the\n",
    "# value that we pull form the data column\n",
    "\n",
    "# For high price\n",
    "data = dict['data']\n",
    "high = []\n",
    "for value in data:\n",
    "        high.append(value[2])\n",
    "clean_high = []\n",
    "for value in high:\n",
    "    if value != None :\n",
    "        clean_high.append(value)\n",
    "        \n",
    "# For low price\n",
    "data = dict['data']\n",
    "low = []\n",
    "for value in data:\n",
    "        low.append(value[3])\n",
    "clean_low = []\n",
    "for value in low:\n",
    "    if value != None :\n",
    "        clean_low.append(value)"
   ]
  },
  {
   "cell_type": "code",
   "execution_count": 138,
   "metadata": {},
   "outputs": [
    {
     "data": {
      "text/plain": [
       "0.6999999999999993"
      ]
     },
     "execution_count": 138,
     "metadata": {},
     "output_type": "execute_result"
    }
   ],
   "source": [
    "# Now we can produce a difference of our lists and pull the max value to find the largest change in value \n",
    "diff = np.subtract(clean_high,clean_low)\n",
    "diff= list(diff)\n",
    "max(diff)"
   ]
  },
  {
   "cell_type": "code",
   "execution_count": 163,
   "metadata": {},
   "outputs": [],
   "source": [
    "# 5.) What was the largest change between any two days (based on Closing Price)?\n",
    "# Same method to get list\n",
    "data = dict['data']\n",
    "close = []\n",
    "for value in data:\n",
    "        close.append(value[4])\n",
    "clean_close = []\n",
    "for value in close:\n",
    "    if value != None :\n",
    "        clean_close.append(value)"
   ]
  },
  {
   "cell_type": "code",
   "execution_count": 162,
   "metadata": {},
   "outputs": [],
   "source": [
    "#List containing all values except the last two:\n",
    "first_close = []\n",
    "i = 0\n",
    "while i < (len(clean_close)-2):\n",
    "    first_close.append(clean_close[i])\n",
    "    i = i + 1\n",
    "\n",
    "# List containing all values except the first two:\n",
    "second_close = []\n",
    "i = 2\n",
    "while i < (len(clean_close)):\n",
    "    second_close.append(clean_close[i])\n",
    "    i = i + 1"
   ]
  },
  {
   "cell_type": "code",
   "execution_count": 164,
   "metadata": {},
   "outputs": [
    {
     "data": {
      "text/plain": [
       "0.5199999999999996"
      ]
     },
     "execution_count": 164,
     "metadata": {},
     "output_type": "execute_result"
    }
   ],
   "source": [
    "# Now we can produce a difference of our lists and pull the max value to find the largest change in value \n",
    "diff = np.subtract(second_close,first_close)\n",
    "diff= list(diff)\n",
    "max(diff)"
   ]
  },
  {
   "cell_type": "code",
   "execution_count": 170,
   "metadata": {},
   "outputs": [
    {
     "data": {
      "text/plain": [
       "10730884.613251155"
      ]
     },
     "execution_count": 170,
     "metadata": {},
     "output_type": "execute_result"
    }
   ],
   "source": [
    "# 6.) What was the average daily trading volume during this year?\n",
    "\n",
    "data = dict['data']\n",
    "volume = []\n",
    "for value in data:\n",
    "        volume.append(value[6])\n",
    "clean_volume = []\n",
    "for value in volume:\n",
    "    if value != None :\n",
    "        clean_volume.append(value)\n",
    "\n",
    "# Seems too simple, but some math should give us the average daily trading volume\n",
    "avg_volume = sum(set(clean_volume))/len(volume)\n",
    "avg_volume\n",
    "        "
   ]
  },
  {
   "cell_type": "code",
   "execution_count": null,
   "metadata": {},
   "outputs": [],
   "source": []
  },
  {
   "cell_type": "code",
   "execution_count": null,
   "metadata": {},
   "outputs": [],
   "source": []
  }
 ],
 "metadata": {
  "kernelspec": {
   "display_name": "Python 3",
   "language": "python",
   "name": "python3"
  },
  "language_info": {
   "codemirror_mode": {
    "name": "ipython",
    "version": 3
   },
   "file_extension": ".py",
   "mimetype": "text/x-python",
   "name": "python",
   "nbconvert_exporter": "python",
   "pygments_lexer": "ipython3",
   "version": "3.7.3"
  }
 },
 "nbformat": 4,
 "nbformat_minor": 2
}
