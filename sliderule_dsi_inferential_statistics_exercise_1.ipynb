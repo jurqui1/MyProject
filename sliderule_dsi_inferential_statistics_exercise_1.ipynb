{
 "cells": [
  {
   "cell_type": "markdown",
   "metadata": {},
   "source": [
    "# What is the True Normal Human Body Temperature? \n",
    "\n",
    "#### Background\n",
    "\n",
    "The mean normal body temperature was held to be 37$^{\\circ}$C or 98.6$^{\\circ}$F for more than 120 years since it was first conceptualized and reported by Carl Wunderlich in a famous 1868 book. But, is this value statistically correct?"
   ]
  },
  {
   "cell_type": "markdown",
   "metadata": {},
   "source": [
    "<h3>Exercises</h3>\n",
    "\n",
    "<p>In this exercise, you will analyze a dataset of human body temperatures and employ the concepts of hypothesis testing, confidence intervals, and statistical significance.</p>\n",
    "\n",
    "<p>Answer the following questions <b>in this notebook below and submit to your Github account</b>.</p> \n",
    "\n",
    "<ol>\n",
    "<li>  Is the distribution of body temperatures normal? \n",
    "    <ul>\n",
    "    <li> Although this is not a requirement for the Central Limit Theorem to hold (read the introduction on Wikipedia's page about the CLT carefully: https://en.wikipedia.org/wiki/Central_limit_theorem), it gives us some peace of mind that the population may also be normally distributed if we assume that this sample is representative of the population.\n",
    "    <li> Think about the way you're going to check for the normality of the distribution. Graphical methods are usually used first, but there are also other ways: https://en.wikipedia.org/wiki/Normality_test\n",
    "    </ul>\n",
    "<li>  Is the sample size large? Are the observations independent?\n",
    "    <ul>\n",
    "    <li> Remember that this is a condition for the Central Limit Theorem, and hence the statistical tests we are using, to apply.\n",
    "    </ul>\n",
    "<li>  Is the true population mean really 98.6 degrees F?\n",
    "    <ul>\n",
    "    <li> First, try a bootstrap hypothesis test.\n",
    "    <li> Now, let's try frequentist statistical testing. Would you use a one-sample or two-sample test? Why?\n",
    "    <li> In this situation, is it appropriate to use the $t$ or $z$ statistic? \n",
    "    <li> Now try using the other test. How is the result be different? Why?\n",
    "    </ul>\n",
    "<li>  Draw a small sample of size 10 from the data and repeat both frequentist tests. \n",
    "    <ul>\n",
    "    <li> Which one is the correct one to use? \n",
    "    <li> What do you notice? What does this tell you about the difference in application of the $t$ and $z$ statistic?\n",
    "    </ul>\n",
    "<li>  At what temperature should we consider someone's temperature to be \"abnormal\"?\n",
    "    <ul>\n",
    "    <li> As in the previous example, try calculating everything using the boostrap approach, as well as the frequentist approach.\n",
    "    <li> Start by computing the margin of error and confidence interval. When calculating the confidence interval, keep in mind that you should use the appropriate formula for one draw, and not N draws.\n",
    "    </ul>\n",
    "<li>  Is there a significant difference between males and females in normal temperature?\n",
    "    <ul>\n",
    "    <li> What testing approach did you use and why?\n",
    "    <li> Write a story with your conclusion in the context of the original problem.\n",
    "    </ul>\n",
    "</ol>\n",
    "\n",
    "You can include written notes in notebook cells using Markdown: \n",
    "   - In the control panel at the top, choose Cell > Cell Type > Markdown\n",
    "   - Markdown syntax: http://nestacms.com/docs/creating-content/markdown-cheat-sheet\n",
    "\n",
    "#### Resources\n",
    "\n",
    "+ Information and data sources: http://www.amstat.org/publications/jse/datasets/normtemp.txt, http://www.amstat.org/publications/jse/jse_data_archive.htm\n",
    "+ Markdown syntax: http://nestacms.com/docs/creating-content/markdown-cheat-sheet\n",
    "\n",
    "****"
   ]
  },
  {
   "cell_type": "code",
   "execution_count": 71,
   "metadata": {},
   "outputs": [],
   "source": [
    "import pandas as pd\n",
    "import math\n",
    "import matplotlib.pyplot as plt\n",
    "import seaborn as sns\n",
    "import numpy as np\n",
    "from scipy.stats import norm\n",
    "import sklearn \n",
    "import scipy\n",
    "import warnings\n",
    "warnings.filterwarnings(\"ignore\")\n",
    "\n",
    "df = pd.read_csv('data/human_body_temperature.csv')"
   ]
  },
  {
   "cell_type": "code",
   "execution_count": 2,
   "metadata": {},
   "outputs": [
    {
     "name": "stdout",
     "output_type": "stream",
     "text": [
      "temperature    float64\n",
      "gender          object\n",
      "heart_rate     float64\n",
      "dtype: object\n"
     ]
    }
   ],
   "source": [
    "print(df.dtypes)"
   ]
  },
  {
   "cell_type": "code",
   "execution_count": 2,
   "metadata": {},
   "outputs": [],
   "source": [
    "# Want to turn males and females into numbers to handle more easily in the future. Females = 0, Males = 1\n",
    "df = df.apply(lambda x: x.replace('M','1'))\n",
    "df = df.apply(lambda x: x.replace('F','0'))\n",
    "df.gender = pd.to_numeric(df.gender)\n",
    "df = df.sort_values('temperature')"
   ]
  },
  {
   "cell_type": "code",
   "execution_count": 3,
   "metadata": {},
   "outputs": [
    {
     "name": "stdout",
     "output_type": "stream",
     "text": [
      "100.8 96.3\n"
     ]
    },
    {
     "data": {
      "image/png": "[encoded data removed]",
      "text/plain": [
       "<Figure size 432x288 with 1 Axes>"
      ]
     },
     "metadata": {
      "needs_background": "light"
     },
     "output_type": "display_data"
    }
   ],
   "source": [
    "# 1.) Decided to fit a gaussian curve to the data to see if they lined up enough to call it normally distributed.\n",
    "mu = np.mean(df.temperature)\n",
    "sigma = np.std(df.temperature)\n",
    "print(df.temperature.max(),df.temperature.min())\n",
    "plt.hist(df.temperature, bins = 20, normed = True)\n",
    "x = np.linspace(100.8, 96.3, 100)\n",
    "p = norm.pdf(x, mu, sigma)\n",
    "plt.plot(x, p ,'k', linewidth = 2)\n",
    "_ = plt.xlabel(\"Average Human Body Temp in Degrees F\")\n",
    "title = \"Fit results: mu = %.2f, std = %.2f\" %(mu, sigma)\n",
    "plt.title(title)\n",
    "plt.show()"
   ]
  },
  {
   "cell_type": "code",
   "execution_count": 4,
   "metadata": {},
   "outputs": [
    {
     "data": {
      "text/plain": [
       "0.1444199369878666"
      ]
     },
     "execution_count": 4,
     "metadata": {},
     "output_type": "execute_result"
    }
   ],
   "source": [
    "# 2.) Is the sample size large? Are the observations independent?\n",
    "# Sample size over 60 so rule of thumb says our sample is big enough\n",
    "# Assuming 95% confidence\n",
    "# z-score = 1.96 \n",
    "z = 1.96\n",
    "# For Margin of Error\n",
    "m = z * (sigma/(np.sqrt(mu)))\n",
    "m \n",
    "# Since our sample size is under 10% of the human population at them time, it is safe to say they're independednt"
   ]
  },
  {
   "cell_type": "code",
   "execution_count": null,
   "metadata": {},
   "outputs": [],
   "source": [
    "# 3.)Is the true population mean really 98.6 degrees F?\n",
    "# First, try a bootstrap hypothesis test.\n",
    "# Now, let's try frequentist statistical testing. Would you use a one-sample or two-sample test? Why?\n",
    "# In this situation, is it appropriate to use the  𝑡  or  𝑧  statistic?\n",
    "# Now try using the other test. How is the result be different? Why?"
   ]
  },
  {
   "cell_type": "code",
   "execution_count": 25,
   "metadata": {},
   "outputs": [
    {
     "name": "stdout",
     "output_type": "stream",
     "text": [
      "0.35383055078794634 0.7303577789050376\n"
     ]
    }
   ],
   "source": [
    "#Bootstrappin'\n",
    "est_mean = 98.6\n",
    "means = []\n",
    "for x in range(50):\n",
    "    bs_sample = np.random.choice(df.temperature, size = len(df))\n",
    "    means.append(np.mean(bs_sample))\n",
    "bs_mean = np.mean(means)\n",
    "diff = (np.absolute((bs_mean-est_mean))/est_mean)*100\n",
    "print(diff, sigma)"
   ]
  },
  {
   "cell_type": "code",
   "execution_count": 27,
   "metadata": {},
   "outputs": [
    {
     "name": "stdout",
     "output_type": "stream",
     "text": [
      "-5.475925202078339\n",
      "4.352315165876703e-08\n"
     ]
    }
   ],
   "source": [
    "# Freq stat test\n",
    "n = len(df)\n",
    "#  We would use one-sample since we are comparing the bs to the mean of our data\n",
    "z1 = (mu - est_mean)/(sigma/np.sqrt(n))\n",
    "p1 = scipy.stats.norm.sf(abs(z1))*2\n",
    "print(z1)\n",
    "print(p1)\n"
   ]
  },
  {
   "cell_type": "code",
   "execution_count": null,
   "metadata": {},
   "outputs": [],
   "source": [
    "# In this situation, is it appropriate to use the  𝑡  or  𝑧  statistic?\n",
    "# z statistic since our sample size is greater than 30"
   ]
  },
  {
   "cell_type": "code",
   "execution_count": 28,
   "metadata": {},
   "outputs": [
    {
     "name": "stdout",
     "output_type": "stream",
     "text": [
      "-5.475925202078339\n",
      "2.188746462407283e-07\n"
     ]
    }
   ],
   "source": [
    "# Now try using the other test. How is the result be different? Why?\n",
    "# Freq stat test\n",
    "n = len(df)\n",
    "#  We would use one-sample since we are comparing the bs to the mean of our data\n",
    "t1 = (mu - est_mean)/(sigma/np.sqrt(n))\n",
    "p1 = scipy.stats.t.sf(abs(t1), n-1)*2\n",
    "print(t1)\n",
    "print(p1)\n",
    "# Turns out we get exactly the same results as the Z-test. Since the z-test assumes a normal distribution and our t-test does\n",
    "# not, then it is safe to assume that if their results agree, then we must have a normal distribution."
   ]
  },
  {
   "cell_type": "code",
   "execution_count": null,
   "metadata": {},
   "outputs": [],
   "source": [
    "# 4.) Draw a small sample of size 10 from the data and repeat both frequentist tests.\n",
    "# Which one is the correct one to use?\n",
    "# What do you notice? What does this tell you about the difference in application of the  𝑡  and  𝑧  statistic?"
   ]
  },
  {
   "cell_type": "code",
   "execution_count": 18,
   "metadata": {},
   "outputs": [
    {
     "name": "stdout",
     "output_type": "stream",
     "text": [
      "0.3190669371196741 0.7303577789050376\n"
     ]
    }
   ],
   "source": [
    "#Draw a small sample of size 10 from the data and repeat both frequentist tests.\n",
    "est_mean = 98.6\n",
    "means = []\n",
    "for x in range(50):\n",
    "    bs_sample = np.random.choice(df.temperature, size = 10)\n",
    "    means.append(np.mean(bs_sample))\n",
    "bs_mean = np.mean(means)\n",
    "diff = (np.absolute((bs_mean-est_mean))/est_mean)*100\n",
    "print(diff, sigma)"
   ]
  },
  {
   "cell_type": "code",
   "execution_count": 34,
   "metadata": {},
   "outputs": [
    {
     "name": "stdout",
     "output_type": "stream",
     "text": [
      "-3.746685664579613\n",
      "0.0001791863916614935\n"
     ]
    }
   ],
   "source": [
    "# Z-test\n",
    "n = len(df)\n",
    "#  We would use two-sample since we are comparing the bs to the mean of our data\n",
    "sample = np.random.choice(df.temperature, size = 10)\n",
    "new_mean = np.mean(sample)\n",
    "z1 = (new_mean - est_mean)/(sigma/np.sqrt(n))\n",
    "p1 = scipy.stats.norm.sf(abs(z1))*2\n",
    "print(z1)\n",
    "print(p1)"
   ]
  },
  {
   "cell_type": "code",
   "execution_count": 61,
   "metadata": {},
   "outputs": [
    {
     "name": "stdout",
     "output_type": "stream",
     "text": [
      "-9.522826064140608\n",
      "1.3193224982279918e-16\n"
     ]
    }
   ],
   "source": [
    "# T-test\n",
    "n = len(df)\n",
    "#  We would use two-sample since we are comparing the bs to the mean of our data\n",
    "sample = np.random.choice(df.temperature, size = 10)\n",
    "new_mean = np.mean(sample)\n",
    "t1 = (new_mean - est_mean)/(sigma/np.sqrt(n))\n",
    "p1 = scipy.stats.t.sf(abs(t1), n-1)*2\n",
    "print(t1)\n",
    "print(p1)"
   ]
  },
  {
   "cell_type": "code",
   "execution_count": null,
   "metadata": {},
   "outputs": [],
   "source": [
    "# Which one is the correct one to use?\n",
    "# t test since our sample size is under 30 "
   ]
  },
  {
   "cell_type": "code",
   "execution_count": null,
   "metadata": {},
   "outputs": [],
   "source": [
    "#"
   ]
  },
  {
   "cell_type": "code",
   "execution_count": null,
   "metadata": {},
   "outputs": [],
   "source": [
    "# 5.) At what temperature should we consider someone's temperature to be \"abnormal\"?\n",
    "# As in the previous example, try calculating everything using the boostrap approach, as well as the frequentist approach.\n",
    "# Start by computing the margin of error and confidence interval. When calculating the confidence interval, keep in mind that \n",
    "# you should use the appropriate formula for one draw, and not N draws."
   ]
  },
  {
   "cell_type": "code",
   "execution_count": 86,
   "metadata": {},
   "outputs": [
    {
     "ename": "TypeError",
     "evalue": "bad operand type for unary +: 'str'",
     "output_type": "error",
     "traceback": [
      "\u001b[1;31m---------------------------------------------------------------------------\u001b[0m",
      "\u001b[1;31mTypeError\u001b[0m                                 Traceback (most recent call last)",
      "\u001b[1;32m<ipython-input-86-d43cf9f7b9f9>\u001b[0m in \u001b[0;36m<module>\u001b[1;34m\u001b[0m\n\u001b[0;32m     13\u001b[0m \u001b[0mconf_int_up\u001b[0m \u001b[1;33m=\u001b[0m \u001b[0mbs_mean\u001b[0m \u001b[1;33m+\u001b[0m \u001b[1;33m(\u001b[0m\u001b[0msigma_means\u001b[0m\u001b[1;33m/\u001b[0m\u001b[0mmath\u001b[0m\u001b[1;33m.\u001b[0m\u001b[0msqrt\u001b[0m\u001b[1;33m(\u001b[0m\u001b[0mn\u001b[0m\u001b[1;33m)\u001b[0m\u001b[1;33m)\u001b[0m\u001b[1;33m*\u001b[0m\u001b[0mz\u001b[0m\u001b[1;33m\u001b[0m\u001b[1;33m\u001b[0m\u001b[0m\n\u001b[0;32m     14\u001b[0m \u001b[0mconf_int_down\u001b[0m \u001b[1;33m=\u001b[0m \u001b[0mbs_mean\u001b[0m \u001b[1;33m-\u001b[0m \u001b[1;33m(\u001b[0m\u001b[0msigma_means\u001b[0m\u001b[1;33m/\u001b[0m\u001b[0mmath\u001b[0m\u001b[1;33m.\u001b[0m\u001b[0msqrt\u001b[0m\u001b[1;33m(\u001b[0m\u001b[0mn\u001b[0m\u001b[1;33m)\u001b[0m\u001b[1;33m)\u001b[0m\u001b[1;33m*\u001b[0m\u001b[0mz\u001b[0m\u001b[1;33m\u001b[0m\u001b[1;33m\u001b[0m\u001b[0m\n\u001b[1;32m---> 15\u001b[1;33m \u001b[0mprint\u001b[0m\u001b[1;33m(\u001b[0m\u001b[0msigma_means\u001b[0m\u001b[1;33m,\u001b[0m \u001b[0mmoe\u001b[0m\u001b[1;33m,\u001b[0m \u001b[1;33m+\u001b[0m \u001b[1;34m\"(\"\u001b[0m \u001b[1;33m+\u001b[0m \u001b[0mstr\u001b[0m\u001b[1;33m(\u001b[0m\u001b[0mconf_int_down\u001b[0m\u001b[1;33m)\u001b[0m \u001b[1;33m+\u001b[0m \u001b[1;34m\",\"\u001b[0m \u001b[1;33m+\u001b[0m \u001b[0mstr\u001b[0m\u001b[1;33m(\u001b[0m\u001b[0mconf_int_up\u001b[0m\u001b[1;33m)\u001b[0m \u001b[1;33m+\u001b[0m \u001b[1;34m\")\"\u001b[0m\u001b[1;33m)\u001b[0m\u001b[1;33m\u001b[0m\u001b[1;33m\u001b[0m\u001b[0m\n\u001b[0m",
      "\u001b[1;31mTypeError\u001b[0m: bad operand type for unary +: 'str'"
     ]
    }
   ],
   "source": [
    "#Bootstrappin'\n",
    "est_mean = 98.6\n",
    "means = []\n",
    "for x in range(50):\n",
    "    bs_sample = np.random.choice(df.temperature, size = len(df))\n",
    "    means.append(np.mean(bs_sample))\n",
    "bs_mean = np.mean(means)\n",
    "sigma_means = np.std(means)\n",
    "# With 95% confidence\n",
    "z = 1.96\n",
    "n = len(means)\n",
    "moe = (sigma_means/n)*z\n",
    "conf_int_up = bs_mean + (sigma_means/math.sqrt(n))*z\n",
    "conf_int_down = bs_mean - (sigma_means/math.sqrt(n))*z\n",
    "print(sigma_means, moe, + \"(\" + str(conf_int_down) + \",\" + str(conf_int_up) + \")\")\n"
   ]
  },
  {
   "cell_type": "code",
   "execution_count": null,
   "metadata": {},
   "outputs": [],
   "source": [
    "# 6.)Is there a significant difference between males and females in normal temperature?\n",
    "# What testing approach did you use and why?\n",
    "# Write a story with your conclusion in the context of the original problem."
   ]
  },
  {
   "cell_type": "code",
   "execution_count": 83,
   "metadata": {},
   "outputs": [
    {
     "name": "stdout",
     "output_type": "stream",
     "text": [
      "98.1046153846154 98.39384615384613 0.6933598841828696 0.7377464486428966 65 65 -2.3032202891940123 0.02126645183012935\n"
     ]
    }
   ],
   "source": [
    "males = df[df.gender =='M']\n",
    "females = df[df.gender == 'F']\n",
    "m_mean = np.mean(males.temperature)\n",
    "f_mean = np.mean(females.temperature)\n",
    "m_std = np.std(males.temperature)\n",
    "f_std =np.std(females.temperature)\n",
    "m_n = len(males)\n",
    "f_n = len(females)\n",
    "z1 = (m_mean - f_mean)/ np.sqrt(((m_std)**2/m_n) + ((f_std)**2/f_n))\n",
    "p = scipy.stats.norm.sf(abs(z1))*2\n",
    "print(m_mean, f_mean, m_std, f_std, m_n, f_n, z1, p)"
   ]
  },
  {
   "cell_type": "code",
   "execution_count": null,
   "metadata": {},
   "outputs": [],
   "source": [
    "# The value of p we got is less than the value of alpha, therefore, our alternate hypothesis of there being a significant\n",
    "# difference between males and females in normal temperature is true"
   ]
  },
  {
   "cell_type": "code",
   "execution_count": null,
   "metadata": {},
   "outputs": [],
   "source": []
  },
  {
   "cell_type": "code",
   "execution_count": null,
   "metadata": {},
   "outputs": [],
   "source": []
  }
 ],
 "metadata": {
  "kernelspec": {
   "display_name": "Python 3",
   "language": "python",
   "name": "python3"
  },
  "language_info": {
   "codemirror_mode": {
    "name": "ipython",
    "version": 3
   },
   "file_extension": ".py",
   "mimetype": "text/x-python",
   "name": "python",
   "nbconvert_exporter": "python",
   "pygments_lexer": "ipython3",
   "version": "3.7.3"
  }
 },
 "nbformat": 4,
 "nbformat_minor": 1
}
